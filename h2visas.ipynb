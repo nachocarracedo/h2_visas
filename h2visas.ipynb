{
 "cells": [
  {
   "cell_type": "markdown",
   "metadata": {
    "collapsed": true
   },
   "source": [
    "https://github.com/BuzzFeedNews/H-2-certification-data#standardized-data\n",
    "\n",
    "https://slack-files.com/files-pri-safe/T0G8RC23F-F1CDXGV2T/weeklychallenge1.pdf?c=1464995869-6ff0f6b3f6e525238c72eb64113afaa16cfd2b31"
   ]
  },
  {
   "cell_type": "code",
   "execution_count": 43,
   "metadata": {
    "collapsed": true
   },
   "outputs": [],
   "source": [
    "import numpy as np\n",
    "import pandas as pd\n",
    "import matplotlib.pyplot as plt"
   ]
  },
  {
   "cell_type": "code",
   "execution_count": 44,
   "metadata": {
    "collapsed": false
   },
   "outputs": [
    {
     "name": "stderr",
     "output_type": "stream",
     "text": [
      "C:\\Anaconda3\\lib\\site-packages\\IPython\\core\\interactiveshell.py:2723: DtypeWarning: Columns (0,8,9,14,15,16,17,18,20,21) have mixed types. Specify dtype option on import or set low_memory=False.\n",
      "  interactivity=interactivity, compiler=compiler, result=result)\n"
     ]
    },
    {
     "data": {
      "text/plain": [
       "(213155, 22)"
      ]
     },
     "execution_count": 44,
     "metadata": {},
     "output_type": "execute_result"
    }
   ],
   "source": [
    "h2visas_df = pd.read_csv(\".\\\\datasets\\\\H-2-certification-decisions.csv\")\n",
    "h2visas_df.shape"
   ]
  },
  {
   "cell_type": "code",
   "execution_count": 45,
   "metadata": {
    "collapsed": false
   },
   "outputs": [
    {
     "data": {
      "text/plain": [
       "Index(['case_no', 'visa_type', 'fy', 'last_event_date', 'case_status',\n",
       "       'n_requested', 'n_certified', 'is_certified',\n",
       "       'certification_begin_date', 'certification_end_date', 'job_title',\n",
       "       'employer_name', 'employer_state', 'employer_city',\n",
       "       'employer_address_1', 'employer_address_2', 'employer_postal_code',\n",
       "       'worksite_state', 'worksite_city', 'agent_name', 'organization_flag',\n",
       "       'is_duplicate'],\n",
       "      dtype='object')"
      ]
     },
     "execution_count": 45,
     "metadata": {},
     "output_type": "execute_result"
    }
   ],
   "source": [
    "h2visas_df.columns"
   ]
  },
  {
   "cell_type": "code",
   "execution_count": 46,
   "metadata": {
    "collapsed": false
   },
   "outputs": [
    {
     "data": {
      "text/html": [
       "<div>\n",
       "<table border=\"1\" class=\"dataframe\">\n",
       "  <thead>\n",
       "    <tr style=\"text-align: right;\">\n",
       "      <th></th>\n",
       "      <th>case_no</th>\n",
       "      <th>visa_type</th>\n",
       "      <th>fy</th>\n",
       "      <th>last_event_date</th>\n",
       "      <th>case_status</th>\n",
       "      <th>n_requested</th>\n",
       "      <th>n_certified</th>\n",
       "      <th>is_certified</th>\n",
       "      <th>certification_begin_date</th>\n",
       "      <th>certification_end_date</th>\n",
       "      <th>...</th>\n",
       "      <th>employer_state</th>\n",
       "      <th>employer_city</th>\n",
       "      <th>employer_address_1</th>\n",
       "      <th>employer_address_2</th>\n",
       "      <th>employer_postal_code</th>\n",
       "      <th>worksite_state</th>\n",
       "      <th>worksite_city</th>\n",
       "      <th>agent_name</th>\n",
       "      <th>organization_flag</th>\n",
       "      <th>is_duplicate</th>\n",
       "    </tr>\n",
       "  </thead>\n",
       "  <tbody>\n",
       "    <tr>\n",
       "      <th>0</th>\n",
       "      <td>9455254</td>\n",
       "      <td>H-2B</td>\n",
       "      <td>2000</td>\n",
       "      <td>1999-10-01</td>\n",
       "      <td>DENIED, TEMPORARY</td>\n",
       "      <td>1.0</td>\n",
       "      <td>0</td>\n",
       "      <td>False</td>\n",
       "      <td>NaN</td>\n",
       "      <td>NaN</td>\n",
       "      <td>...</td>\n",
       "      <td>CA</td>\n",
       "      <td>LOS ANGELES</td>\n",
       "      <td>NaN</td>\n",
       "      <td>NaN</td>\n",
       "      <td>NaN</td>\n",
       "      <td>NaN</td>\n",
       "      <td>NaN</td>\n",
       "      <td>NaN</td>\n",
       "      <td>NaN</td>\n",
       "      <td>NaN</td>\n",
       "    </tr>\n",
       "    <tr>\n",
       "      <th>1</th>\n",
       "      <td>8222219</td>\n",
       "      <td>H-2B</td>\n",
       "      <td>2000</td>\n",
       "      <td>1999-10-04</td>\n",
       "      <td>CERTIFIED, TEMPORARY</td>\n",
       "      <td>2.0</td>\n",
       "      <td>2</td>\n",
       "      <td>True</td>\n",
       "      <td>NaN</td>\n",
       "      <td>NaN</td>\n",
       "      <td>...</td>\n",
       "      <td>CO</td>\n",
       "      <td>BEAVER CREEK</td>\n",
       "      <td>NaN</td>\n",
       "      <td>NaN</td>\n",
       "      <td>NaN</td>\n",
       "      <td>NaN</td>\n",
       "      <td>NaN</td>\n",
       "      <td>NaN</td>\n",
       "      <td>NaN</td>\n",
       "      <td>NaN</td>\n",
       "    </tr>\n",
       "    <tr>\n",
       "      <th>2</th>\n",
       "      <td>8222168</td>\n",
       "      <td>H-2B</td>\n",
       "      <td>2000</td>\n",
       "      <td>1999-10-04</td>\n",
       "      <td>CERTIFIED, TEMPORARY</td>\n",
       "      <td>2.0</td>\n",
       "      <td>2</td>\n",
       "      <td>True</td>\n",
       "      <td>NaN</td>\n",
       "      <td>NaN</td>\n",
       "      <td>...</td>\n",
       "      <td>CO</td>\n",
       "      <td>MT. CRESTED BUTTE</td>\n",
       "      <td>NaN</td>\n",
       "      <td>NaN</td>\n",
       "      <td>NaN</td>\n",
       "      <td>NaN</td>\n",
       "      <td>NaN</td>\n",
       "      <td>NaN</td>\n",
       "      <td>NaN</td>\n",
       "      <td>NaN</td>\n",
       "    </tr>\n",
       "    <tr>\n",
       "      <th>3</th>\n",
       "      <td>8222169</td>\n",
       "      <td>H-2B</td>\n",
       "      <td>2000</td>\n",
       "      <td>1999-10-04</td>\n",
       "      <td>CERTIFIED, TEMPORARY</td>\n",
       "      <td>5.0</td>\n",
       "      <td>5</td>\n",
       "      <td>True</td>\n",
       "      <td>NaN</td>\n",
       "      <td>NaN</td>\n",
       "      <td>...</td>\n",
       "      <td>CO</td>\n",
       "      <td>MT. CRESTED BUTTE</td>\n",
       "      <td>NaN</td>\n",
       "      <td>NaN</td>\n",
       "      <td>NaN</td>\n",
       "      <td>NaN</td>\n",
       "      <td>NaN</td>\n",
       "      <td>NaN</td>\n",
       "      <td>NaN</td>\n",
       "      <td>NaN</td>\n",
       "    </tr>\n",
       "    <tr>\n",
       "      <th>4</th>\n",
       "      <td>8222170</td>\n",
       "      <td>H-2B</td>\n",
       "      <td>2000</td>\n",
       "      <td>1999-10-04</td>\n",
       "      <td>CERTIFIED, TEMPORARY</td>\n",
       "      <td>40.0</td>\n",
       "      <td>40</td>\n",
       "      <td>True</td>\n",
       "      <td>NaN</td>\n",
       "      <td>NaN</td>\n",
       "      <td>...</td>\n",
       "      <td>CO</td>\n",
       "      <td>MT. CRESTED BUTTE</td>\n",
       "      <td>NaN</td>\n",
       "      <td>NaN</td>\n",
       "      <td>NaN</td>\n",
       "      <td>NaN</td>\n",
       "      <td>NaN</td>\n",
       "      <td>NaN</td>\n",
       "      <td>NaN</td>\n",
       "      <td>NaN</td>\n",
       "    </tr>\n",
       "  </tbody>\n",
       "</table>\n",
       "<p>5 rows × 22 columns</p>\n",
       "</div>"
      ],
      "text/plain": [
       "   case_no visa_type    fy last_event_date           case_status  n_requested  \\\n",
       "0  9455254      H-2B  2000      1999-10-01     DENIED, TEMPORARY          1.0   \n",
       "1  8222219      H-2B  2000      1999-10-04  CERTIFIED, TEMPORARY          2.0   \n",
       "2  8222168      H-2B  2000      1999-10-04  CERTIFIED, TEMPORARY          2.0   \n",
       "3  8222169      H-2B  2000      1999-10-04  CERTIFIED, TEMPORARY          5.0   \n",
       "4  8222170      H-2B  2000      1999-10-04  CERTIFIED, TEMPORARY         40.0   \n",
       "\n",
       "   n_certified is_certified certification_begin_date certification_end_date  \\\n",
       "0            0        False                      NaN                    NaN   \n",
       "1            2         True                      NaN                    NaN   \n",
       "2            2         True                      NaN                    NaN   \n",
       "3            5         True                      NaN                    NaN   \n",
       "4           40         True                      NaN                    NaN   \n",
       "\n",
       "      ...      employer_state      employer_city employer_address_1  \\\n",
       "0     ...                  CA        LOS ANGELES                NaN   \n",
       "1     ...                  CO       BEAVER CREEK                NaN   \n",
       "2     ...                  CO  MT. CRESTED BUTTE                NaN   \n",
       "3     ...                  CO  MT. CRESTED BUTTE                NaN   \n",
       "4     ...                  CO  MT. CRESTED BUTTE                NaN   \n",
       "\n",
       "  employer_address_2 employer_postal_code worksite_state worksite_city  \\\n",
       "0                NaN                  NaN            NaN           NaN   \n",
       "1                NaN                  NaN            NaN           NaN   \n",
       "2                NaN                  NaN            NaN           NaN   \n",
       "3                NaN                  NaN            NaN           NaN   \n",
       "4                NaN                  NaN            NaN           NaN   \n",
       "\n",
       "  agent_name organization_flag is_duplicate  \n",
       "0        NaN               NaN          NaN  \n",
       "1        NaN               NaN          NaN  \n",
       "2        NaN               NaN          NaN  \n",
       "3        NaN               NaN          NaN  \n",
       "4        NaN               NaN          NaN  \n",
       "\n",
       "[5 rows x 22 columns]"
      ]
     },
     "execution_count": 46,
     "metadata": {},
     "output_type": "execute_result"
    }
   ],
   "source": [
    "h2visas_df.head()"
   ]
  },
  {
   "cell_type": "code",
   "execution_count": 52,
   "metadata": {
    "collapsed": false
   },
   "outputs": [
    {
     "name": "stdout",
     "output_type": "stream",
     "text": [
      "<class 'pandas.core.frame.DataFrame'>\n",
      "RangeIndex: 213155 entries, 0 to 213154\n",
      "Data columns (total 22 columns):\n",
      "case_no                     213155 non-null object\n",
      "visa_type                   213155 non-null object\n",
      "fy                          213155 non-null int64\n",
      "last_event_date             205686 non-null object\n",
      "case_status                 213155 non-null object\n",
      "n_requested                 141512 non-null float64\n",
      "n_certified                 213155 non-null int64\n",
      "is_certified                213155 non-null bool\n",
      "certification_begin_date    155351 non-null object\n",
      "certification_end_date      155342 non-null object\n",
      "job_title                   212671 non-null object\n",
      "employer_name               213133 non-null object\n",
      "employer_state              213029 non-null object\n",
      "employer_city               213076 non-null object\n",
      "employer_address_1          169205 non-null object\n",
      "employer_address_2          21596 non-null object\n",
      "employer_postal_code        168879 non-null object\n",
      "worksite_state              150084 non-null object\n",
      "worksite_city               81980 non-null object\n",
      "agent_name                  155934 non-null object\n",
      "organization_flag           47122 non-null object\n",
      "is_duplicate                75284 non-null object\n",
      "dtypes: bool(1), float64(1), int64(2), object(18)\n",
      "memory usage: 34.4+ MB\n"
     ]
    }
   ],
   "source": [
    "h2visas_df.info()"
   ]
  },
  {
   "cell_type": "code",
   "execution_count": 51,
   "metadata": {
    "collapsed": false
   },
   "outputs": [
    {
     "data": {
      "text/plain": [
       "case_no                          0\n",
       "visa_type                        0\n",
       "fy                               0\n",
       "last_event_date               7469\n",
       "case_status                      0\n",
       "n_requested                  71643\n",
       "n_certified                      0\n",
       "is_certified                     0\n",
       "certification_begin_date     57804\n",
       "certification_end_date       57813\n",
       "job_title                      484\n",
       "employer_name                   22\n",
       "employer_state                 126\n",
       "employer_city                   79\n",
       "employer_address_1           43950\n",
       "employer_address_2          191559\n",
       "employer_postal_code         44276\n",
       "worksite_state               63071\n",
       "worksite_city               131175\n",
       "agent_name                   57221\n",
       "organization_flag           166033\n",
       "is_duplicate                137871\n",
       "dtype: int64"
      ]
     },
     "execution_count": 51,
     "metadata": {},
     "output_type": "execute_result"
    }
   ],
   "source": [
    "h2visas_df.isnull().sum()"
   ]
  },
  {
   "cell_type": "code",
   "execution_count": 50,
   "metadata": {
    "collapsed": false
   },
   "outputs": [
    {
     "data": {
      "text/plain": [
       "H-2B    122662\n",
       "H-2A     90493\n",
       "Name: visa_type, dtype: int64"
      ]
     },
     "execution_count": 50,
     "metadata": {},
     "output_type": "execute_result"
    }
   ],
   "source": [
    "# visa_type\n",
    "h2visas_df[\"visa_type\"].value_counts()"
   ]
  },
  {
   "cell_type": "code",
   "execution_count": 55,
   "metadata": {
    "collapsed": false
   },
   "outputs": [
    {
     "data": {
      "text/plain": [
       "0    1999-10-01\n",
       "1    1999-10-04\n",
       "2    1999-10-04\n",
       "3    1999-10-04\n",
       "4    1999-10-04\n",
       "Name: last_event_date, dtype: object"
      ]
     },
     "execution_count": 55,
     "metadata": {},
     "output_type": "execute_result"
    }
   ],
   "source": [
    "# last_event_date\n",
    "h2visas_df[\"last_event_date\"].head()"
   ]
  },
  {
   "cell_type": "code",
   "execution_count": 56,
   "metadata": {
    "collapsed": false
   },
   "outputs": [
    {
     "data": {
      "text/plain": [
       "CERTIFIED - FULL                                        57044\n",
       "CERTIFIED                                               42671\n",
       "CERTIFIED, TEMPORARY                                    36788\n",
       "DETERMINATION ISSUED - CERTIFICATION                    18977\n",
       "CERTIFICATION                                           17195\n",
       "DENIED                                                  13684\n",
       "PARTIAL CERTIFIED                                        8514\n",
       "DENIED, TEMPORARY                                        5817\n",
       "WITHDRAWN                                                3189\n",
       "CERTIFIED - PARTIAL                                      3120\n",
       "PARTIAL CERTIFICATION                                    2089\n",
       "RECEIVED REGIONAL OFFICE                                  980\n",
       "DETERMINATION ISSUED - CERTIFICATION EXPIRED              954\n",
       "DETERMINATION ISSUED - DENIED                             366\n",
       "CERTIFICATION EXPIRED                                     355\n",
       "DETERMINATION ISSUED - WITHDRAWN                          346\n",
       "INCOMPLETE                                                320\n",
       "DETERMINATION ISSUED - PARTIAL CERTIFICATION              308\n",
       "RECEIVED                                                  110\n",
       "PARTIAL CERTIFICATION EXPIRED                              84\n",
       "REMAND TO SWA                                              55\n",
       "REMAND ISSUED TO EMPLOYER                                  53\n",
       "MODIFICATION                                               48\n",
       "DETERMINATION ISSUED - PARTIAL CERTIFICATION EXPIRED       41\n",
       "REMAND ISSUED TO STATE                                     33\n",
       "REDUCTION IN RECRUITMENT DENIED                             4\n",
       "DATA REVIEW                                                 3\n",
       "FINAL REVIEW                                                3\n",
       "NOF ISSUED                                                  2\n",
       "RETURNED BY EMP AFTER REMAND                                2\n",
       "Name: case_status, dtype: int64"
      ]
     },
     "execution_count": 56,
     "metadata": {},
     "output_type": "execute_result"
    }
   ],
   "source": [
    "#case_status\n",
    "h2visas_df[\"case_status\"].value_counts()"
   ]
  },
  {
   "cell_type": "code",
   "execution_count": 57,
   "metadata": {
    "collapsed": false
   },
   "outputs": [
    {
     "data": {
      "text/plain": [
       "True     186209\n",
       "False     26946\n",
       "Name: is_certified, dtype: int64"
      ]
     },
     "execution_count": 57,
     "metadata": {},
     "output_type": "execute_result"
    }
   ],
   "source": [
    "#case_status\n",
    "h2visas_df[\"is_certified\"].value_counts()"
   ]
  },
  {
   "cell_type": "code",
   "execution_count": 58,
   "metadata": {
    "collapsed": false
   },
   "outputs": [
    {
     "data": {
      "text/plain": [
       "CERTIFIED - FULL                                        55301\n",
       "CERTIFIED                                               42670\n",
       "CERTIFIED, TEMPORARY                                    36786\n",
       "DETERMINATION ISSUED - CERTIFICATION                    18896\n",
       "CERTIFICATION                                           17160\n",
       "PARTIAL CERTIFIED                                        8514\n",
       "CERTIFIED - PARTIAL                                      3059\n",
       "PARTIAL CERTIFICATION                                    2089\n",
       "DETERMINATION ISSUED - CERTIFICATION EXPIRED              948\n",
       "CERTIFICATION EXPIRED                                     355\n",
       "DETERMINATION ISSUED - PARTIAL CERTIFICATION              306\n",
       "PARTIAL CERTIFICATION EXPIRED                              84\n",
       "DETERMINATION ISSUED - PARTIAL CERTIFICATION EXPIRED       41\n",
       "Name: case_status, dtype: int64"
      ]
     },
     "execution_count": 58,
     "metadata": {},
     "output_type": "execute_result"
    }
   ],
   "source": [
    "h2visas_df[\"case_status\"][h2visas_df[\"is_certified\"] == True].value_counts()"
   ]
  },
  {
   "cell_type": "code",
   "execution_count": 59,
   "metadata": {
    "collapsed": false
   },
   "outputs": [
    {
     "data": {
      "text/plain": [
       "DENIED                                          13684\n",
       "DENIED, TEMPORARY                                5817\n",
       "WITHDRAWN                                        3189\n",
       "CERTIFIED - FULL                                 1743\n",
       "RECEIVED REGIONAL OFFICE                          980\n",
       "DETERMINATION ISSUED - DENIED                     366\n",
       "DETERMINATION ISSUED - WITHDRAWN                  346\n",
       "INCOMPLETE                                        320\n",
       "RECEIVED                                          110\n",
       "DETERMINATION ISSUED - CERTIFICATION               81\n",
       "CERTIFIED - PARTIAL                                61\n",
       "REMAND TO SWA                                      55\n",
       "REMAND ISSUED TO EMPLOYER                          53\n",
       "MODIFICATION                                       48\n",
       "CERTIFICATION                                      35\n",
       "REMAND ISSUED TO STATE                             33\n",
       "DETERMINATION ISSUED - CERTIFICATION EXPIRED        6\n",
       "REDUCTION IN RECRUITMENT DENIED                     4\n",
       "FINAL REVIEW                                        3\n",
       "DATA REVIEW                                         3\n",
       "CERTIFIED, TEMPORARY                                2\n",
       "NOF ISSUED                                          2\n",
       "DETERMINATION ISSUED - PARTIAL CERTIFICATION        2\n",
       "RETURNED BY EMP AFTER REMAND                        2\n",
       "CERTIFIED                                           1\n",
       "Name: case_status, dtype: int64"
      ]
     },
     "execution_count": 59,
     "metadata": {},
     "output_type": "execute_result"
    }
   ],
   "source": [
    "h2visas_df[\"case_status\"][h2visas_df[\"is_certified\"] == False].value_counts()"
   ]
  },
  {
   "cell_type": "code",
   "execution_count": null,
   "metadata": {
    "collapsed": true
   },
   "outputs": [],
   "source": []
  }
 ],
 "metadata": {
  "kernelspec": {
   "display_name": "Python 3",
   "language": "python",
   "name": "python3"
  },
  "language_info": {
   "codemirror_mode": {
    "name": "ipython",
    "version": 3
   },
   "file_extension": ".py",
   "mimetype": "text/x-python",
   "name": "python",
   "nbconvert_exporter": "python",
   "pygments_lexer": "ipython3",
   "version": "3.5.1"
  }
 },
 "nbformat": 4,
 "nbformat_minor": 0
}
