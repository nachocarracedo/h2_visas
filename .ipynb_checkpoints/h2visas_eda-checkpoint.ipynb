{
 "cells": [
  {
   "cell_type": "markdown",
   "metadata": {},
   "source": [
    "https://github.com/BuzzFeedNews/H-2-certification-data#standardized-data\n",
    "\n",
    "https://slack-files.com/files-pri-safe/T0G8RC23F-F1CDXGV2T/weeklychallenge1.pdf?c=1464995869-6ff0f6b3f6e525238c72eb64113afaa16cfd2b31"
   ]
  },
  {
   "cell_type": "markdown",
   "metadata": {},
   "source": [
    "# 1.Imports, load data, and quick look at it:"
   ]
  },
  {
   "cell_type": "code",
   "execution_count": 1,
   "metadata": {
    "collapsed": true
   },
   "outputs": [],
   "source": [
    "import numpy as np\n",
    "import pandas as pd\n",
    "import matplotlib.pyplot as plt\n",
    "%matplotlib inline\n",
    "plt.style.use('fivethirtyeight')"
   ]
  },
  {
   "cell_type": "code",
   "execution_count": null,
   "metadata": {
    "collapsed": true
   },
   "outputs": [],
   "source": [
    "h2visas_df = pd.read_csv(\".\\\\datasets\\\\H-2-certification-decisions.csv\")\n",
    "print(\"Number of columns/rows:\")\n",
    "print(h2visas_df.shape)\n",
    "print(\"Columns:\")\n",
    "h2visas_df.columns"
   ]
  },
  {
   "cell_type": "code",
   "execution_count": null,
   "metadata": {
    "collapsed": true
   },
   "outputs": [],
   "source": []
  },
  {
   "cell_type": "code",
   "execution_count": 3,
   "metadata": {
    "collapsed": false
   },
   "outputs": [
    {
     "data": {
      "text/html": [
       "<div>\n",
       "<table border=\"1\" class=\"dataframe\">\n",
       "  <thead>\n",
       "    <tr style=\"text-align: right;\">\n",
       "      <th></th>\n",
       "      <th>case_no</th>\n",
       "      <th>visa_type</th>\n",
       "      <th>fy</th>\n",
       "      <th>last_event_date</th>\n",
       "      <th>case_status</th>\n",
       "      <th>n_requested</th>\n",
       "      <th>n_certified</th>\n",
       "      <th>is_certified</th>\n",
       "      <th>certification_begin_date</th>\n",
       "      <th>certification_end_date</th>\n",
       "      <th>...</th>\n",
       "      <th>employer_state</th>\n",
       "      <th>employer_city</th>\n",
       "      <th>employer_address_1</th>\n",
       "      <th>employer_address_2</th>\n",
       "      <th>employer_postal_code</th>\n",
       "      <th>worksite_state</th>\n",
       "      <th>worksite_city</th>\n",
       "      <th>agent_name</th>\n",
       "      <th>organization_flag</th>\n",
       "      <th>is_duplicate</th>\n",
       "    </tr>\n",
       "  </thead>\n",
       "  <tbody>\n",
       "    <tr>\n",
       "      <th>0</th>\n",
       "      <td>9455254</td>\n",
       "      <td>H-2B</td>\n",
       "      <td>2000</td>\n",
       "      <td>1999-10-01</td>\n",
       "      <td>DENIED, TEMPORARY</td>\n",
       "      <td>1.0</td>\n",
       "      <td>0</td>\n",
       "      <td>False</td>\n",
       "      <td>NaN</td>\n",
       "      <td>NaN</td>\n",
       "      <td>...</td>\n",
       "      <td>CA</td>\n",
       "      <td>LOS ANGELES</td>\n",
       "      <td>NaN</td>\n",
       "      <td>NaN</td>\n",
       "      <td>NaN</td>\n",
       "      <td>NaN</td>\n",
       "      <td>NaN</td>\n",
       "      <td>NaN</td>\n",
       "      <td>NaN</td>\n",
       "      <td>NaN</td>\n",
       "    </tr>\n",
       "    <tr>\n",
       "      <th>1</th>\n",
       "      <td>8222219</td>\n",
       "      <td>H-2B</td>\n",
       "      <td>2000</td>\n",
       "      <td>1999-10-04</td>\n",
       "      <td>CERTIFIED, TEMPORARY</td>\n",
       "      <td>2.0</td>\n",
       "      <td>2</td>\n",
       "      <td>True</td>\n",
       "      <td>NaN</td>\n",
       "      <td>NaN</td>\n",
       "      <td>...</td>\n",
       "      <td>CO</td>\n",
       "      <td>BEAVER CREEK</td>\n",
       "      <td>NaN</td>\n",
       "      <td>NaN</td>\n",
       "      <td>NaN</td>\n",
       "      <td>NaN</td>\n",
       "      <td>NaN</td>\n",
       "      <td>NaN</td>\n",
       "      <td>NaN</td>\n",
       "      <td>NaN</td>\n",
       "    </tr>\n",
       "    <tr>\n",
       "      <th>2</th>\n",
       "      <td>8222168</td>\n",
       "      <td>H-2B</td>\n",
       "      <td>2000</td>\n",
       "      <td>1999-10-04</td>\n",
       "      <td>CERTIFIED, TEMPORARY</td>\n",
       "      <td>2.0</td>\n",
       "      <td>2</td>\n",
       "      <td>True</td>\n",
       "      <td>NaN</td>\n",
       "      <td>NaN</td>\n",
       "      <td>...</td>\n",
       "      <td>CO</td>\n",
       "      <td>MT. CRESTED BUTTE</td>\n",
       "      <td>NaN</td>\n",
       "      <td>NaN</td>\n",
       "      <td>NaN</td>\n",
       "      <td>NaN</td>\n",
       "      <td>NaN</td>\n",
       "      <td>NaN</td>\n",
       "      <td>NaN</td>\n",
       "      <td>NaN</td>\n",
       "    </tr>\n",
       "    <tr>\n",
       "      <th>3</th>\n",
       "      <td>8222169</td>\n",
       "      <td>H-2B</td>\n",
       "      <td>2000</td>\n",
       "      <td>1999-10-04</td>\n",
       "      <td>CERTIFIED, TEMPORARY</td>\n",
       "      <td>5.0</td>\n",
       "      <td>5</td>\n",
       "      <td>True</td>\n",
       "      <td>NaN</td>\n",
       "      <td>NaN</td>\n",
       "      <td>...</td>\n",
       "      <td>CO</td>\n",
       "      <td>MT. CRESTED BUTTE</td>\n",
       "      <td>NaN</td>\n",
       "      <td>NaN</td>\n",
       "      <td>NaN</td>\n",
       "      <td>NaN</td>\n",
       "      <td>NaN</td>\n",
       "      <td>NaN</td>\n",
       "      <td>NaN</td>\n",
       "      <td>NaN</td>\n",
       "    </tr>\n",
       "    <tr>\n",
       "      <th>4</th>\n",
       "      <td>8222170</td>\n",
       "      <td>H-2B</td>\n",
       "      <td>2000</td>\n",
       "      <td>1999-10-04</td>\n",
       "      <td>CERTIFIED, TEMPORARY</td>\n",
       "      <td>40.0</td>\n",
       "      <td>40</td>\n",
       "      <td>True</td>\n",
       "      <td>NaN</td>\n",
       "      <td>NaN</td>\n",
       "      <td>...</td>\n",
       "      <td>CO</td>\n",
       "      <td>MT. CRESTED BUTTE</td>\n",
       "      <td>NaN</td>\n",
       "      <td>NaN</td>\n",
       "      <td>NaN</td>\n",
       "      <td>NaN</td>\n",
       "      <td>NaN</td>\n",
       "      <td>NaN</td>\n",
       "      <td>NaN</td>\n",
       "      <td>NaN</td>\n",
       "    </tr>\n",
       "  </tbody>\n",
       "</table>\n",
       "<p>5 rows × 22 columns</p>\n",
       "</div>"
      ],
      "text/plain": [
       "   case_no visa_type    fy last_event_date           case_status  n_requested  \\\n",
       "0  9455254      H-2B  2000      1999-10-01     DENIED, TEMPORARY          1.0   \n",
       "1  8222219      H-2B  2000      1999-10-04  CERTIFIED, TEMPORARY          2.0   \n",
       "2  8222168      H-2B  2000      1999-10-04  CERTIFIED, TEMPORARY          2.0   \n",
       "3  8222169      H-2B  2000      1999-10-04  CERTIFIED, TEMPORARY          5.0   \n",
       "4  8222170      H-2B  2000      1999-10-04  CERTIFIED, TEMPORARY         40.0   \n",
       "\n",
       "   n_certified is_certified certification_begin_date certification_end_date  \\\n",
       "0            0        False                      NaN                    NaN   \n",
       "1            2         True                      NaN                    NaN   \n",
       "2            2         True                      NaN                    NaN   \n",
       "3            5         True                      NaN                    NaN   \n",
       "4           40         True                      NaN                    NaN   \n",
       "\n",
       "      ...      employer_state      employer_city employer_address_1  \\\n",
       "0     ...                  CA        LOS ANGELES                NaN   \n",
       "1     ...                  CO       BEAVER CREEK                NaN   \n",
       "2     ...                  CO  MT. CRESTED BUTTE                NaN   \n",
       "3     ...                  CO  MT. CRESTED BUTTE                NaN   \n",
       "4     ...                  CO  MT. CRESTED BUTTE                NaN   \n",
       "\n",
       "  employer_address_2 employer_postal_code worksite_state worksite_city  \\\n",
       "0                NaN                  NaN            NaN           NaN   \n",
       "1                NaN                  NaN            NaN           NaN   \n",
       "2                NaN                  NaN            NaN           NaN   \n",
       "3                NaN                  NaN            NaN           NaN   \n",
       "4                NaN                  NaN            NaN           NaN   \n",
       "\n",
       "  agent_name organization_flag is_duplicate  \n",
       "0        NaN               NaN          NaN  \n",
       "1        NaN               NaN          NaN  \n",
       "2        NaN               NaN          NaN  \n",
       "3        NaN               NaN          NaN  \n",
       "4        NaN               NaN          NaN  \n",
       "\n",
       "[5 rows x 22 columns]"
      ]
     },
     "execution_count": 3,
     "metadata": {},
     "output_type": "execute_result"
    }
   ],
   "source": [
    "h2visas_df.head()"
   ]
  },
  {
   "cell_type": "code",
   "execution_count": 4,
   "metadata": {
    "collapsed": false
   },
   "outputs": [
    {
     "name": "stdout",
     "output_type": "stream",
     "text": [
      "<class 'pandas.core.frame.DataFrame'>\n",
      "RangeIndex: 213155 entries, 0 to 213154\n",
      "Data columns (total 22 columns):\n",
      "case_no                     213155 non-null object\n",
      "visa_type                   213155 non-null object\n",
      "fy                          213155 non-null int64\n",
      "last_event_date             205686 non-null object\n",
      "case_status                 213155 non-null object\n",
      "n_requested                 141512 non-null float64\n",
      "n_certified                 213155 non-null int64\n",
      "is_certified                213155 non-null bool\n",
      "certification_begin_date    155351 non-null object\n",
      "certification_end_date      155342 non-null object\n",
      "job_title                   212671 non-null object\n",
      "employer_name               213133 non-null object\n",
      "employer_state              213029 non-null object\n",
      "employer_city               213076 non-null object\n",
      "employer_address_1          169205 non-null object\n",
      "employer_address_2          21596 non-null object\n",
      "employer_postal_code        168879 non-null object\n",
      "worksite_state              150084 non-null object\n",
      "worksite_city               81980 non-null object\n",
      "agent_name                  155934 non-null object\n",
      "organization_flag           47122 non-null object\n",
      "is_duplicate                75284 non-null object\n",
      "dtypes: bool(1), float64(1), int64(2), object(18)\n",
      "memory usage: 34.4+ MB\n"
     ]
    }
   ],
   "source": [
    "#column types\n",
    "h2visas_df.info()"
   ]
  },
  {
   "cell_type": "code",
   "execution_count": 5,
   "metadata": {
    "collapsed": false
   },
   "outputs": [
    {
     "data": {
      "text/plain": [
       "case_no                          0\n",
       "visa_type                        0\n",
       "fy                               0\n",
       "last_event_date               7469\n",
       "case_status                      0\n",
       "n_requested                  71643\n",
       "n_certified                      0\n",
       "is_certified                     0\n",
       "certification_begin_date     57804\n",
       "certification_end_date       57813\n",
       "job_title                      484\n",
       "employer_name                   22\n",
       "employer_state                 126\n",
       "employer_city                   79\n",
       "employer_address_1           43950\n",
       "employer_address_2          191559\n",
       "employer_postal_code         44276\n",
       "worksite_state               63071\n",
       "worksite_city               131175\n",
       "agent_name                   57221\n",
       "organization_flag           166033\n",
       "is_duplicate                137871\n",
       "dtype: int64"
      ]
     },
     "execution_count": 5,
     "metadata": {},
     "output_type": "execute_result"
    }
   ],
   "source": [
    "# number of nulls per column\n",
    "h2visas_df.isnull().sum()"
   ]
  },
  {
   "cell_type": "code",
   "execution_count": 268,
   "metadata": {
    "collapsed": false
   },
   "outputs": [
    {
     "data": {
      "image/png": "[encoded data removed]",
      "text/plain": [
       "<matplotlib.figure.Figure at 0x15313e10>"
      ]
     },
     "metadata": {},
     "output_type": "display_data"
    }
   ],
   "source": [
    "import missingno as msno\n",
    "#%matplotlib inline\n",
    "msno.matrix(h2visas_df)"
   ]
  },
  {
   "cell_type": "markdown",
   "metadata": {},
   "source": [
    "# 2.Duplicates\n",
    "** First thing I want to do is to eliminate duplicates so I don't work with them in the next steps**"
   ]
  },
  {
   "cell_type": "code",
   "execution_count": 6,
   "metadata": {
    "collapsed": false
   },
   "outputs": [
    {
     "data": {
      "text/plain": [
       "H-2A    28162\n",
       "Name: visa_type, dtype: int64"
      ]
     },
     "execution_count": 6,
     "metadata": {},
     "output_type": "execute_result"
    }
   ],
   "source": [
    "# the data shows that all duplicates for visa H-2A as mark as is_duplicate == True \n",
    "h2visas_df['visa_type'][h2visas_df['is_duplicate'] == True].value_counts()"
   ]
  },
  {
   "cell_type": "code",
   "execution_count": null,
   "metadata": {
    "collapsed": true
   },
   "outputs": [],
   "source": [
    "# but are there other H-2A duplicates?"
   ]
  },
  {
   "cell_type": "code",
   "execution_count": 13,
   "metadata": {
    "collapsed": false
   },
   "outputs": [],
   "source": [
    "# are there H-2B duplicates?"
   ]
  },
  {
   "cell_type": "code",
   "execution_count": 15,
   "metadata": {
    "collapsed": false
   },
   "outputs": [],
   "source": [
    "# get rows that have more than one entry for case_no\n",
    "duplicates = h2visas_df['case_no'].value_counts()[h2visas_df['case_no'].value_counts() > 1].index\n",
    "\n",
    "#For each one of the duplicate case_no:\n",
    "# test if visa is the same (dates and status may be different due to errors)\n",
    "# if the duplicates have is_duplicate all true/false/Nan keep the one with bigger n_requested\n",
    "# if the duplicates have true and false, keep the false beause it's the parent\n",
    "\n",
    "cols_to_check = ['n_certified','n_requested','visa_type','is_duplicate']\n",
    "\n",
    "for dup in duplicates:\n",
    "    \n",
    "    duplicate_case = h2visas_df[cols_to_check][h2visas_df['case_no']==dup]\n",
    "        \n",
    "    if len(duplicate_case['visa_type'].unique()) == 1:\n",
    "        is_duplicate = duplicate_case['is_duplicate'].value_counts()\n",
    "        if len(is_duplicate) <= 1:\n",
    "            if len(duplicate_case['n_requested'].value_counts()) == 0:\n",
    "                duplicate_case.drop(duplicate_case['n_certified'].idxmax(),inplace=True)\n",
    "            else:\n",
    "                duplicate_case.drop(duplicate_case['n_requested'].idxmax(),inplace=True)\n",
    "        elif len(is_duplicate) > 1:\n",
    "            duplicate_case.drop(duplicate_case[duplicate_case[\"is_duplicate\"]==False].index[0], inplace=True)\n",
    "        else:\n",
    "            print(\"-Error: \"+ dup)\n",
    "        h2visas_df.drop(duplicate_case.index,inplace=True)\n",
    "    else:\n",
    "        print(\"Error: \"+ dup)"
   ]
  },
  {
   "cell_type": "code",
   "execution_count": 16,
   "metadata": {
    "collapsed": false
   },
   "outputs": [
    {
     "name": "stdout",
     "output_type": "stream",
     "text": [
      "(181437, 22)\n"
     ]
    },
    {
     "data": {
      "text/plain": [
       "H-300-14140-796571    1\n",
       "H-300-14329-903010    1\n",
       "C-11006-53146         1\n",
       "C-11318-30456         1\n",
       "C-06230-02861         1\n",
       "C-10022-48994         1\n",
       "C-09351-47673         1\n",
       "H-300-15169-220200    1\n",
       "H-300-15135-695751    1\n",
       "4420948               1\n",
       "A-07365-33173         1\n",
       "C-11284-55617         1\n",
       "H-400-13220-586219    1\n",
       "4410744               1\n",
       "6359377               1\n",
       "C-07079-05243         1\n",
       "H-400-14218-267485    1\n",
       "C-08009-07619         1\n",
       "H-300-15036-818575    1\n",
       "4421689               1\n",
       "C-08204-14368         1\n",
       "5441421               1\n",
       "C-09098-44998         1\n",
       "C-12263-59803         1\n",
       "H-300-15055-214374    1\n",
       "H-300-16044-088664    1\n",
       "A-06356-02506         1\n",
       "C-10361-52740         1\n",
       "H-300-14059-533997    1\n",
       "H-300-15356-960903    1\n",
       "                     ..\n",
       "C-06355-18200         1\n",
       "C-05362-00976         1\n",
       "C-10320-51819         1\n",
       "C-08065-08761         1\n",
       "C-06331-16305         1\n",
       "5417216               1\n",
       "C-12017-57319         1\n",
       "A-07317-29459         1\n",
       "C-08289-15116         1\n",
       "4368691               1\n",
       "H-300-14020-480209    1\n",
       "5417266               1\n",
       "H-400-13233-536173    1\n",
       "H-400-14351-719275    1\n",
       "C-11279-55612         1\n",
       "C-08350-43213         1\n",
       "C-09272-20596         1\n",
       "C-05354-05569         1\n",
       "H-400-14309-490479    1\n",
       "C-07086-24370         1\n",
       "5417243               1\n",
       "C-08235-39354         1\n",
       "4368675               1\n",
       "6340566               1\n",
       "C-12109-34139         1\n",
       "C-10293-25292         1\n",
       "5417246               1\n",
       "5417245               1\n",
       "5417244               1\n",
       "C-06010-01135         1\n",
       "Name: case_no, dtype: int64"
      ]
     },
     "execution_count": 16,
     "metadata": {},
     "output_type": "execute_result"
    }
   ],
   "source": [
    "# check after duplicates\n",
    "print(h2visas_df.shape)\n",
    "h2visas_df.case_no.value_counts()"
   ]
  },
  {
   "cell_type": "markdown",
   "metadata": {},
   "source": [
    "# 3. Check columns and clean data:\n",
    "I could have filter the data first using only the years I'll use for my analysis but I decided to this the other way around to get more practice and to get to know the data better."
   ]
  },
  {
   "cell_type": "markdown",
   "metadata": {},
   "source": [
    "# VISA TYPE\n",
    "** No nulls, more H2B **"
   ]
  },
  {
   "cell_type": "code",
   "execution_count": 32,
   "metadata": {
    "collapsed": false
   },
   "outputs": [
    {
     "name": "stdout",
     "output_type": "stream",
     "text": [
      "H-2B    121868\n",
      "H-2A     59569\n",
      "Name: visa_type, dtype: int64\n"
     ]
    },
    {
     "data": {
      "image/png": "[encoded data removed]",
      "text/plain": [
       "<matplotlib.figure.Figure at 0xfb4c1d0>"
      ]
     },
     "metadata": {},
     "output_type": "display_data"
    }
   ],
   "source": [
    "print(h2visas_df[\"visa_type\"].value_counts())\n",
    "h2visas_df[\"visa_type\"].value_counts().plot(kind='bar')\n",
    "plt.show()"
   ]
  },
  {
   "cell_type": "markdown",
   "metadata": {},
   "source": [
    "#  Case status, is_certified\n",
    "** There are many case status. It will be symplified to 5 differents status (Cerfified, In_progress, Denied, Expired, and Withdrawn ) **"
   ]
  },
  {
   "cell_type": "code",
   "execution_count": 33,
   "metadata": {
    "collapsed": false
   },
   "outputs": [
    {
     "data": {
      "text/plain": [
       "CERTIFIED                                               42653\n",
       "CERTIFIED, TEMPORARY                                    36708\n",
       "CERTIFIED - FULL                                        36515\n",
       "CERTIFICATION                                           14515\n",
       "DETERMINATION ISSUED - CERTIFICATION                    13557\n",
       "DENIED                                                  13338\n",
       "PARTIAL CERTIFIED                                        8508\n",
       "DENIED, TEMPORARY                                        5793\n",
       "WITHDRAWN                                                2825\n",
       "PARTIAL CERTIFICATION                                    1954\n",
       "CERTIFIED - PARTIAL                                      1485\n",
       "RECEIVED REGIONAL OFFICE                                  980\n",
       "DETERMINATION ISSUED - CERTIFICATION EXPIRED              905\n",
       "DETERMINATION ISSUED - DENIED                             364\n",
       "DETERMINATION ISSUED - WITHDRAWN                          338\n",
       "CERTIFICATION EXPIRED                                     320\n",
       "DETERMINATION ISSUED - PARTIAL CERTIFICATION              212\n",
       "RECEIVED                                                  105\n",
       "PARTIAL CERTIFICATION EXPIRED                              75\n",
       "REMAND TO SWA                                              55\n",
       "REMAND ISSUED TO EMPLOYER                                  52\n",
       "INCOMPLETE                                                 52\n",
       "MODIFICATION                                               48\n",
       "DETERMINATION ISSUED - PARTIAL CERTIFICATION EXPIRED       33\n",
       "REMAND ISSUED TO STATE                                     33\n",
       "REDUCTION IN RECRUITMENT DENIED                             4\n",
       "DATA REVIEW                                                 3\n",
       "FINAL REVIEW                                                3\n",
       "NOF ISSUED                                                  2\n",
       "RETURNED BY EMP AFTER REMAND                                2\n",
       "Name: case_status, dtype: int64"
      ]
     },
     "execution_count": 33,
     "metadata": {},
     "output_type": "execute_result"
    }
   ],
   "source": [
    "#case_status\n",
    "h2visas_df[\"case_status\"].value_counts()"
   ]
  },
  {
   "cell_type": "code",
   "execution_count": 34,
   "metadata": {
    "collapsed": false
   },
   "outputs": [
    {
     "data": {
      "text/plain": [
       "Certified      143948\n",
       "Denied          19553\n",
       "Partial         12159\n",
       "Withdrawn        3163\n",
       "Expired          1333\n",
       "In_progress      1281\n",
       "Name: case_status_sum, dtype: int64"
      ]
     },
     "execution_count": 34,
     "metadata": {},
     "output_type": "execute_result"
    }
   ],
   "source": [
    "Certified = ['CERTIFIED - FULL','CERTIFIED','CERTIFIED, TEMPORARY','DETERMINATION ISSUED - CERTIFICATION','CERTIFICATION',]\n",
    "Partial = ['PARTIAL CERTIFIED','CERTIFIED - PARTIAL','PARTIAL CERTIFICATION','DETERMINATION ISSUED - PARTIAL CERTIFICATION']\n",
    "Denied = ['DENIED','DENIED, TEMPORARY','DETERMINATION ISSUED - DENIED','REDUCTION IN RECRUITMENT DENIED','NOF ISSUED','INCOMPLETE']\n",
    "In_progress = ['RECEIVED REGIONAL OFFICE','RECEIVED','REMAND TO SWA','REMAND ISSUED TO EMPLOYER','REMAND ISSUED TO STATE','FINAL REVIEW','DATA REVIEW','RETURNED BY EMP AFTER REMAND','MODIFICATION']\n",
    "Withdrawn = ['WITHDRAWN','DETERMINATION ISSUED - WITHDRAWN']\n",
    "Expired = ['PARTIAL CERTIFICATION EXPIRED','DETERMINATION ISSUED - CERTIFICATION EXPIRED','CERTIFICATION EXPIRED','DETERMINATION ISSUED - PARTIAL CERTIFICATION EXPIRED']\n",
    "\n",
    "def classify_status(status):\n",
    "    new_status = status\n",
    "    if status in Certified:\n",
    "        new_status = 'Certified'\n",
    "    elif status in Partial:\n",
    "        new_status = 'Partial'\n",
    "    elif status in Denied:\n",
    "        new_status = 'Denied'\n",
    "    elif status in In_progress:\n",
    "        new_status = 'In_progress'\n",
    "    elif status in Withdrawn:\n",
    "        new_status = 'Withdrawn'\n",
    "    elif status in Expired:\n",
    "        new_status = 'Expired'\n",
    "    return new_status\n",
    "\n",
    "h2visas_df[\"case_status_sum\"] = h2visas_df[\"case_status\"].map(lambda x: classify_status(x))\n",
    "h2visas_df[\"case_status_sum\"].value_counts()"
   ]
  },
  {
   "cell_type": "code",
   "execution_count": 36,
   "metadata": {
    "collapsed": false
   },
   "outputs": [
    {
     "data": {
      "image/png": "[encoded data removed]",
      "text/plain": [
       "<matplotlib.figure.Figure at 0xfb1a358>"
      ]
     },
     "metadata": {},
     "output_type": "display_data"
    }
   ],
   "source": [
    "h2visas_df[\"case_status_sum\"].value_counts().plot(kind='bar')\n",
    "plt.show()"
   ]
  },
  {
   "cell_type": "code",
   "execution_count": 37,
   "metadata": {
    "collapsed": false
   },
   "outputs": [
    {
     "name": "stdout",
     "output_type": "stream",
     "text": [
      " -------------- is certified ------------ \n",
      "Certified    143936\n",
      "Partial       12159\n",
      "Expired        1333\n",
      "Name: case_status_sum, dtype: int64\n",
      " \n",
      "-------------- is NOT certified --------- \n",
      "Denied         19553\n",
      "Withdrawn       3163\n",
      "In_progress     1281\n",
      "Certified         12\n",
      "Name: case_status_sum, dtype: int64\n"
     ]
    }
   ],
   "source": [
    "# I don't trust is_certified as it doesn't match properly with case_status_sum or case_status\n",
    "print(\" -------------- is certified ------------ \")\n",
    "print(h2visas_df[\"case_status_sum\"][h2visas_df[\"is_certified\"] == True].value_counts())\n",
    "print(\" \\n-------------- is NOT certified --------- \")\n",
    "print(h2visas_df[\"case_status_sum\"][h2visas_df[\"is_certified\"] == False].value_counts())"
   ]
  },
  {
   "cell_type": "code",
   "execution_count": 63,
   "metadata": {
    "collapsed": false,
    "scrolled": false
   },
   "outputs": [
    {
     "data": {
      "text/html": [
       "<div>\n",
       "<table border=\"1\" class=\"dataframe\">\n",
       "  <thead>\n",
       "    <tr style=\"text-align: right;\">\n",
       "      <th></th>\n",
       "      <th>fy</th>\n",
       "      <th>last_event_date</th>\n",
       "      <th>n_requested</th>\n",
       "      <th>n_certified</th>\n",
       "      <th>is_certified</th>\n",
       "      <th>case_status</th>\n",
       "      <th>case_status_sum</th>\n",
       "    </tr>\n",
       "  </thead>\n",
       "  <tbody>\n",
       "    <tr>\n",
       "      <th>3418</th>\n",
       "      <td>2000</td>\n",
       "      <td>2000-05-15</td>\n",
       "      <td>NaN</td>\n",
       "      <td>0</td>\n",
       "      <td>False</td>\n",
       "      <td>CERTIFIED, TEMPORARY</td>\n",
       "      <td>Certified</td>\n",
       "    </tr>\n",
       "    <tr>\n",
       "      <th>10302</th>\n",
       "      <td>2001</td>\n",
       "      <td>2001-06-11</td>\n",
       "      <td>NaN</td>\n",
       "      <td>0</td>\n",
       "      <td>False</td>\n",
       "      <td>CERTIFIED, TEMPORARY</td>\n",
       "      <td>Certified</td>\n",
       "    </tr>\n",
       "    <tr>\n",
       "      <th>102142</th>\n",
       "      <td>2008</td>\n",
       "      <td>2008-04-11</td>\n",
       "      <td>NaN</td>\n",
       "      <td>0</td>\n",
       "      <td>False</td>\n",
       "      <td>CERTIFIED</td>\n",
       "      <td>Certified</td>\n",
       "    </tr>\n",
       "    <tr>\n",
       "      <th>126680</th>\n",
       "      <td>2010</td>\n",
       "      <td>2010-07-02</td>\n",
       "      <td>NaN</td>\n",
       "      <td>0</td>\n",
       "      <td>False</td>\n",
       "      <td>CERTIFIED - FULL</td>\n",
       "      <td>Certified</td>\n",
       "    </tr>\n",
       "    <tr>\n",
       "      <th>126846</th>\n",
       "      <td>2010</td>\n",
       "      <td>2010-07-19</td>\n",
       "      <td>NaN</td>\n",
       "      <td>0</td>\n",
       "      <td>False</td>\n",
       "      <td>CERTIFIED - FULL</td>\n",
       "      <td>Certified</td>\n",
       "    </tr>\n",
       "    <tr>\n",
       "      <th>126879</th>\n",
       "      <td>2010</td>\n",
       "      <td>2010-07-23</td>\n",
       "      <td>NaN</td>\n",
       "      <td>0</td>\n",
       "      <td>False</td>\n",
       "      <td>CERTIFIED - FULL</td>\n",
       "      <td>Certified</td>\n",
       "    </tr>\n",
       "    <tr>\n",
       "      <th>126880</th>\n",
       "      <td>2010</td>\n",
       "      <td>2010-07-23</td>\n",
       "      <td>NaN</td>\n",
       "      <td>0</td>\n",
       "      <td>False</td>\n",
       "      <td>CERTIFIED - FULL</td>\n",
       "      <td>Certified</td>\n",
       "    </tr>\n",
       "    <tr>\n",
       "      <th>127152</th>\n",
       "      <td>2010</td>\n",
       "      <td>2010-08-19</td>\n",
       "      <td>NaN</td>\n",
       "      <td>0</td>\n",
       "      <td>False</td>\n",
       "      <td>CERTIFIED - FULL</td>\n",
       "      <td>Certified</td>\n",
       "    </tr>\n",
       "    <tr>\n",
       "      <th>127153</th>\n",
       "      <td>2010</td>\n",
       "      <td>2010-08-19</td>\n",
       "      <td>NaN</td>\n",
       "      <td>0</td>\n",
       "      <td>False</td>\n",
       "      <td>CERTIFIED - FULL</td>\n",
       "      <td>Certified</td>\n",
       "    </tr>\n",
       "    <tr>\n",
       "      <th>127160</th>\n",
       "      <td>2010</td>\n",
       "      <td>2010-08-20</td>\n",
       "      <td>NaN</td>\n",
       "      <td>0</td>\n",
       "      <td>False</td>\n",
       "      <td>CERTIFIED - FULL</td>\n",
       "      <td>Certified</td>\n",
       "    </tr>\n",
       "    <tr>\n",
       "      <th>127335</th>\n",
       "      <td>2010</td>\n",
       "      <td>2010-09-15</td>\n",
       "      <td>NaN</td>\n",
       "      <td>0</td>\n",
       "      <td>False</td>\n",
       "      <td>CERTIFIED - FULL</td>\n",
       "      <td>Certified</td>\n",
       "    </tr>\n",
       "    <tr>\n",
       "      <th>127337</th>\n",
       "      <td>2010</td>\n",
       "      <td>2010-09-15</td>\n",
       "      <td>NaN</td>\n",
       "      <td>0</td>\n",
       "      <td>False</td>\n",
       "      <td>CERTIFIED - FULL</td>\n",
       "      <td>Certified</td>\n",
       "    </tr>\n",
       "  </tbody>\n",
       "</table>\n",
       "</div>"
      ],
      "text/plain": [
       "          fy last_event_date  n_requested  n_certified is_certified  \\\n",
       "3418    2000      2000-05-15          NaN            0        False   \n",
       "10302   2001      2001-06-11          NaN            0        False   \n",
       "102142  2008      2008-04-11          NaN            0        False   \n",
       "126680  2010      2010-07-02          NaN            0        False   \n",
       "126846  2010      2010-07-19          NaN            0        False   \n",
       "126879  2010      2010-07-23          NaN            0        False   \n",
       "126880  2010      2010-07-23          NaN            0        False   \n",
       "127152  2010      2010-08-19          NaN            0        False   \n",
       "127153  2010      2010-08-19          NaN            0        False   \n",
       "127160  2010      2010-08-20          NaN            0        False   \n",
       "127335  2010      2010-09-15          NaN            0        False   \n",
       "127337  2010      2010-09-15          NaN            0        False   \n",
       "\n",
       "                 case_status case_status_sum  \n",
       "3418    CERTIFIED, TEMPORARY       Certified  \n",
       "10302   CERTIFIED, TEMPORARY       Certified  \n",
       "102142             CERTIFIED       Certified  \n",
       "126680      CERTIFIED - FULL       Certified  \n",
       "126846      CERTIFIED - FULL       Certified  \n",
       "126879      CERTIFIED - FULL       Certified  \n",
       "126880      CERTIFIED - FULL       Certified  \n",
       "127152      CERTIFIED - FULL       Certified  \n",
       "127153      CERTIFIED - FULL       Certified  \n",
       "127160      CERTIFIED - FULL       Certified  \n",
       "127335      CERTIFIED - FULL       Certified  \n",
       "127337      CERTIFIED - FULL       Certified  "
      ]
     },
     "execution_count": 63,
     "metadata": {},
     "output_type": "execute_result"
    }
   ],
   "source": [
    "# make sure is_certifed = False and case_status = Cerfified are wrong\n",
    "cols_to_check = ['fy','last_event_date','n_requested','n_certified','is_certified','case_status','case_status_sum']\n",
    "h2visas_df[cols_to_check][(h2visas_df[\"case_status_sum\"]=='Certified') & (h2visas_df[\"is_certified\"] == False)]\n",
    "#When n_request is NaN and n_certief is 0 these should be removed"
   ]
  },
  {
   "cell_type": "code",
   "execution_count": null,
   "metadata": {
    "collapsed": true
   },
   "outputs": [],
   "source": [
    "#remove this rows as there is now way I can know their try meaning"
   ]
  },
  {
   "cell_type": "markdown",
   "metadata": {},
   "source": [
    "# n_requested & n_certified"
   ]
  },
  {
   "cell_type": "code",
   "execution_count": 104,
   "metadata": {
    "collapsed": false
   },
   "outputs": [
    {
     "name": "stdout",
     "output_type": "stream",
     "text": [
      "n_requested:  57225\n",
      "n_certified:  0\n"
     ]
    }
   ],
   "source": [
    "#Nulls\n",
    "print(\"n_requested: \" ,h2visas_df.isnull().sum().loc['n_requested'])\n",
    "print(\"n_certified: \" , h2visas_df.isnull().sum().loc['n_certified'])"
   ]
  },
  {
   "cell_type": "code",
   "execution_count": 102,
   "metadata": {
    "collapsed": false
   },
   "outputs": [
    {
     "name": "stderr",
     "output_type": "stream",
     "text": [
      "C:\\Anaconda3\\lib\\site-packages\\numpy\\lib\\function_base.py:3403: RuntimeWarning: Invalid value encountered in median\n",
      "  RuntimeWarning)\n"
     ]
    },
    {
     "data": {
      "text/plain": [
       "count    124212.000000\n",
       "mean         20.493592\n",
       "std          44.399153\n",
       "min           0.000000\n",
       "25%                NaN\n",
       "50%                NaN\n",
       "75%                NaN\n",
       "max        1866.000000\n",
       "Name: n_requested, dtype: float64"
      ]
     },
     "execution_count": 102,
     "metadata": {},
     "output_type": "execute_result"
    }
   ],
   "source": [
    "# requested. Describe:\n",
    "h2visas_df.n_requested.describe()"
   ]
  },
  {
   "cell_type": "code",
   "execution_count": 103,
   "metadata": {
    "collapsed": false
   },
   "outputs": [
    {
     "data": {
      "text/plain": [
       "count    181437.000000\n",
       "mean         17.734795\n",
       "std          41.546894\n",
       "min           0.000000\n",
       "25%           2.000000\n",
       "50%           7.000000\n",
       "75%          18.000000\n",
       "max        1866.000000\n",
       "Name: n_certified, dtype: float64"
      ]
     },
     "execution_count": 103,
     "metadata": {},
     "output_type": "execute_result"
    }
   ],
   "source": [
    "# certified. Describe\n",
    "h2visas_df.n_certified.describe()"
   ]
  },
  {
   "cell_type": "code",
   "execution_count": 116,
   "metadata": {
    "collapsed": false
   },
   "outputs": [
    {
     "name": "stderr",
     "output_type": "stream",
     "text": [
      "C:\\Anaconda3\\lib\\site-packages\\numpy\\lib\\function_base.py:3403: RuntimeWarning: Invalid value encountered in median\n",
      "  RuntimeWarning)\n"
     ]
    },
    {
     "data": {
      "text/plain": [
       "count    31549.000000\n",
       "mean        17.348030\n",
       "std         56.166159\n",
       "min          1.000000\n",
       "25%               NaN\n",
       "50%               NaN\n",
       "75%               NaN\n",
       "max       1866.000000\n",
       "Name: n_requested, dtype: float64"
      ]
     },
     "execution_count": 116,
     "metadata": {},
     "output_type": "execute_result"
    }
   ],
   "source": [
    "# check by type of visa\n",
    "h2visas_df.n_requested[h2visas_df.visa_type == 'H-2A'].describe()"
   ]
  },
  {
   "cell_type": "code",
   "execution_count": 123,
   "metadata": {
    "collapsed": false
   },
   "outputs": [
    {
     "name": "stderr",
     "output_type": "stream",
     "text": [
      "C:\\Anaconda3\\lib\\site-packages\\numpy\\lib\\function_base.py:3403: RuntimeWarning: Invalid value encountered in median\n",
      "  RuntimeWarning)\n"
     ]
    },
    {
     "data": {
      "text/plain": [
       "count    92663.000000\n",
       "mean        21.564562\n",
       "std         39.546203\n",
       "min          0.000000\n",
       "25%               NaN\n",
       "50%               NaN\n",
       "75%               NaN\n",
       "max       1530.000000\n",
       "Name: n_requested, dtype: float64"
      ]
     },
     "execution_count": 123,
     "metadata": {},
     "output_type": "execute_result"
    }
   ],
   "source": [
    "h2visas_df.n_requested[h2visas_df.visa_type == 'H-2B'].describe()"
   ]
  },
  {
   "cell_type": "code",
   "execution_count": 179,
   "metadata": {
    "collapsed": false
   },
   "outputs": [
    {
     "data": {
      "text/plain": [
       "1826"
      ]
     },
     "execution_count": 179,
     "metadata": {},
     "output_type": "execute_result"
    }
   ],
   "source": [
    "# very few over 150 n_requested\n",
    "len(h2visas_df[h2visas_df.n_requested > 150])"
   ]
  },
  {
   "cell_type": "code",
   "execution_count": 180,
   "metadata": {
    "collapsed": false
   },
   "outputs": [
    {
     "data": {
      "text/plain": [
       "2219"
      ]
     },
     "execution_count": 180,
     "metadata": {},
     "output_type": "execute_result"
    }
   ],
   "source": [
    "# very few over 150 n_certified\n",
    "len(h2visas_df[h2visas_df.n_certified > 150])"
   ]
  },
  {
   "cell_type": "code",
   "execution_count": 174,
   "metadata": {
    "collapsed": false
   },
   "outputs": [
    {
     "data": {
      "text/html": [
       "<div>\n",
       "<table border=\"1\" class=\"dataframe\">\n",
       "  <thead>\n",
       "    <tr style=\"text-align: right;\">\n",
       "      <th></th>\n",
       "      <th>case_no</th>\n",
       "      <th>visa_type</th>\n",
       "      <th>fy</th>\n",
       "      <th>last_event_date</th>\n",
       "      <th>case_status</th>\n",
       "      <th>n_requested</th>\n",
       "      <th>n_certified</th>\n",
       "      <th>is_certified</th>\n",
       "      <th>certification_begin_date</th>\n",
       "      <th>certification_end_date</th>\n",
       "      <th>...</th>\n",
       "      <th>employer_city</th>\n",
       "      <th>employer_address_1</th>\n",
       "      <th>employer_address_2</th>\n",
       "      <th>employer_postal_code</th>\n",
       "      <th>worksite_state</th>\n",
       "      <th>worksite_city</th>\n",
       "      <th>agent_name</th>\n",
       "      <th>organization_flag</th>\n",
       "      <th>is_duplicate</th>\n",
       "      <th>case_status_sum</th>\n",
       "    </tr>\n",
       "  </thead>\n",
       "  <tbody>\n",
       "    <tr>\n",
       "      <th>190718</th>\n",
       "      <td>H-300-15078-186809</td>\n",
       "      <td>H-2A</td>\n",
       "      <td>2015</td>\n",
       "      <td>2015-04-27</td>\n",
       "      <td>DETERMINATION ISSUED - CERTIFICATION</td>\n",
       "      <td>1714.0</td>\n",
       "      <td>1714</td>\n",
       "      <td>True</td>\n",
       "      <td>2015-05-20</td>\n",
       "      <td>2015-11-05</td>\n",
       "      <td>...</td>\n",
       "      <td>LACEY</td>\n",
       "      <td>8830 TALLON LANE NE SUITE C</td>\n",
       "      <td>NaN</td>\n",
       "      <td>98516</td>\n",
       "      <td>WA</td>\n",
       "      <td>BREWSTER</td>\n",
       "      <td>NaN</td>\n",
       "      <td>Association - Joint Employer (H-2A Only)</td>\n",
       "      <td>False</td>\n",
       "      <td>Certified</td>\n",
       "    </tr>\n",
       "  </tbody>\n",
       "</table>\n",
       "<p>1 rows × 23 columns</p>\n",
       "</div>"
      ],
      "text/plain": [
       "                   case_no visa_type    fy last_event_date  \\\n",
       "190718  H-300-15078-186809      H-2A  2015      2015-04-27   \n",
       "\n",
       "                                 case_status  n_requested  n_certified  \\\n",
       "190718  DETERMINATION ISSUED - CERTIFICATION       1714.0         1714   \n",
       "\n",
       "       is_certified certification_begin_date certification_end_date  \\\n",
       "190718         True               2015-05-20             2015-11-05   \n",
       "\n",
       "             ...       employer_city           employer_address_1  \\\n",
       "190718       ...               LACEY  8830 TALLON LANE NE SUITE C   \n",
       "\n",
       "       employer_address_2 employer_postal_code worksite_state worksite_city  \\\n",
       "190718                NaN                98516             WA      BREWSTER   \n",
       "\n",
       "       agent_name                         organization_flag is_duplicate  \\\n",
       "190718        NaN  Association - Joint Employer (H-2A Only)        False   \n",
       "\n",
       "       case_status_sum  \n",
       "190718       Certified  \n",
       "\n",
       "[1 rows x 23 columns]"
      ]
     },
     "execution_count": 174,
     "metadata": {},
     "output_type": "execute_result"
    }
   ],
   "source": [
    "# checking some max, they look fine. I won't remove the outliers, they seem legit\n",
    "h2visas_df[h2visas_df.n_requested == 1714.0]\n",
    "# after exploring some more they all seem legit"
   ]
  },
  {
   "cell_type": "code",
   "execution_count": 167,
   "metadata": {
    "collapsed": false
   },
   "outputs": [
    {
     "data": {
      "image/png": "[encoded data removed]",
      "text/plain": [
       "<matplotlib.figure.Figure at 0x15081da0>"
      ]
     },
     "metadata": {},
     "output_type": "display_data"
    }
   ],
   "source": [
    "# show histogram of n_requested and n_certified under 150 for both types of visas\n",
    "fig = plt.figure(figsize=(15,8))\n",
    "ax1 = plt.subplot2grid((2,2), (0, 0))\n",
    "ax2 = plt.subplot2grid((2,2), (0, 1))\n",
    "ax3 = plt.subplot2grid((2,2), (1, 0))\n",
    "ax4 = plt.subplot2grid((2,2), (1, 1))\n",
    "ax1.set(xlabel='n_requested' , ylabel='Count', title='H-2B')\n",
    "ax2.set(xlabel='n_requested' , ylabel='Count', title='H-2A')\n",
    "ax3.set(xlabel='n_certified' , ylabel='Count', title='H-2B')\n",
    "ax4.set(xlabel='n_certified' , ylabel='Count', title='H-2A')\n",
    "ax1.hist(h2visas_df.n_requested[(h2visas_df.visa_type == 'H-2B') & (h2visas_df.n_requested < 150)],bins=50,color='r')\n",
    "ax2.hist(h2visas_df.n_requested[(h2visas_df.visa_type == 'H-2A') & (h2visas_df.n_requested < 150)],bins=50) \n",
    "ax3.hist(h2visas_df.n_certified[(h2visas_df.visa_type == 'H-2B') & (h2visas_df.n_certified < 150)],bins=50,color='r')\n",
    "ax4.hist(h2visas_df.n_certified[(h2visas_df.visa_type == 'H-2A') & (h2visas_df.n_certified < 150)],bins=50) \n",
    "plt.tight_layout()\n",
    "plt.show()"
   ]
  },
  {
   "cell_type": "code",
   "execution_count": 209,
   "metadata": {
    "collapsed": false
   },
   "outputs": [
    {
     "data": {
      "text/html": [
       "<div>\n",
       "<table border=\"1\" class=\"dataframe\">\n",
       "  <thead>\n",
       "    <tr style=\"text-align: right;\">\n",
       "      <th></th>\n",
       "      <th>visa_type</th>\n",
       "      <th>fy</th>\n",
       "      <th>case_status_sum</th>\n",
       "      <th>n_requested</th>\n",
       "      <th>n_certified</th>\n",
       "    </tr>\n",
       "  </thead>\n",
       "  <tbody>\n",
       "    <tr>\n",
       "      <th>151531</th>\n",
       "      <td>H-2A</td>\n",
       "      <td>2012</td>\n",
       "      <td>Certified</td>\n",
       "      <td>9.0</td>\n",
       "      <td>19</td>\n",
       "    </tr>\n",
       "    <tr>\n",
       "      <th>191287</th>\n",
       "      <td>H-2A</td>\n",
       "      <td>2015</td>\n",
       "      <td>Partial</td>\n",
       "      <td>100.0</td>\n",
       "      <td>121</td>\n",
       "    </tr>\n",
       "    <tr>\n",
       "      <th>199495</th>\n",
       "      <td>H-2B</td>\n",
       "      <td>2015</td>\n",
       "      <td>Partial</td>\n",
       "      <td>1.0</td>\n",
       "      <td>14</td>\n",
       "    </tr>\n",
       "    <tr>\n",
       "      <th>210837</th>\n",
       "      <td>H-2B</td>\n",
       "      <td>2016</td>\n",
       "      <td>Certified</td>\n",
       "      <td>8.0</td>\n",
       "      <td>84</td>\n",
       "    </tr>\n",
       "    <tr>\n",
       "      <th>211604</th>\n",
       "      <td>H-2B</td>\n",
       "      <td>2016</td>\n",
       "      <td>Certified</td>\n",
       "      <td>6.0</td>\n",
       "      <td>12</td>\n",
       "    </tr>\n",
       "    <tr>\n",
       "      <th>212263</th>\n",
       "      <td>H-2B</td>\n",
       "      <td>2016</td>\n",
       "      <td>Partial</td>\n",
       "      <td>1.0</td>\n",
       "      <td>8</td>\n",
       "    </tr>\n",
       "    <tr>\n",
       "      <th>212714</th>\n",
       "      <td>H-2B</td>\n",
       "      <td>2016</td>\n",
       "      <td>Certified</td>\n",
       "      <td>2.0</td>\n",
       "      <td>3</td>\n",
       "    </tr>\n",
       "  </tbody>\n",
       "</table>\n",
       "</div>"
      ],
      "text/plain": [
       "       visa_type    fy case_status_sum  n_requested  n_certified\n",
       "151531      H-2A  2012       Certified          9.0           19\n",
       "191287      H-2A  2015         Partial        100.0          121\n",
       "199495      H-2B  2015         Partial          1.0           14\n",
       "210837      H-2B  2016       Certified          8.0           84\n",
       "211604      H-2B  2016       Certified          6.0           12\n",
       "212263      H-2B  2016         Partial          1.0            8\n",
       "212714      H-2B  2016       Certified          2.0            3"
      ]
     },
     "execution_count": 209,
     "metadata": {},
     "output_type": "execute_result"
    }
   ],
   "source": [
    "# is there n_certified > n_requested\n",
    "h2visas_df[['visa_type','fy','case_status_sum','n_requested','n_certified']][h2visas_df.n_certified > h2visas_df.n_requested]"
   ]
  },
  {
   "cell_type": "code",
   "execution_count": 212,
   "metadata": {
    "collapsed": false
   },
   "outputs": [
    {
     "name": "stderr",
     "output_type": "stream",
     "text": [
      "C:\\Anaconda3\\lib\\site-packages\\pandas\\core\\indexing.py:132: SettingWithCopyWarning: \n",
      "A value is trying to be set on a copy of a slice from a DataFrame\n",
      "\n",
      "See the caveats in the documentation: http://pandas.pydata.org/pandas-docs/stable/indexing.html#indexing-view-versus-copy\n",
      "  self._setitem_with_indexer(indexer, value)\n"
     ]
    }
   ],
   "source": [
    "# fix above data: dropping partials and fixing certified\n",
    "h2visas_df[\"n_certified\"].loc[151531] = 9\n",
    "h2visas_df.drop(191287,inplace=True)\n",
    "h2visas_df.drop(199495,inplace=True)\n",
    "h2visas_df[\"n_certified\"].loc[210837] = 8\n",
    "h2visas_df[\"n_certified\"].loc[211604] = 6\n",
    "h2visas_df.drop(212263,inplace=True)\n",
    "h2visas_df[\"n_certified\"].loc[212714] = 2"
   ]
  },
  {
   "cell_type": "code",
   "execution_count": 188,
   "metadata": {
    "collapsed": false
   },
   "outputs": [
    {
     "data": {
      "text/plain": [
       "Certified      44585\n",
       "Partial         5638\n",
       "Denied          4126\n",
       "Withdrawn       1570\n",
       "Expired         1300\n",
       "In_progress        6\n",
       "Name: case_status_sum, dtype: int64"
      ]
     },
     "execution_count": 188,
     "metadata": {},
     "output_type": "execute_result"
    }
   ],
   "source": [
    "# what values are in n_certified when n_requested is NaN\n",
    "h2visas_df.case_status_sum[h2visas_df.n_requested.isnull()].value_counts()"
   ]
  },
  {
   "cell_type": "code",
   "execution_count": 197,
   "metadata": {
    "collapsed": false
   },
   "outputs": [
    {
     "name": "stdout",
     "output_type": "stream",
     "text": [
      "12\n"
     ]
    },
    {
     "name": "stderr",
     "output_type": "stream",
     "text": [
      "C:\\Anaconda3\\lib\\site-packages\\pandas\\core\\indexing.py:132: SettingWithCopyWarning: \n",
      "A value is trying to be set on a copy of a slice from a DataFrame\n",
      "\n",
      "See the caveats in the documentation: http://pandas.pydata.org/pandas-docs/stable/indexing.html#indexing-view-versus-copy\n",
      "  self._setitem_with_indexer(indexer, value)\n"
     ]
    }
   ],
   "source": [
    "# NaN - Certified. it has many values for n_certified. Including 12 0s\n",
    "print(h2visas_df.n_certified[(h2visas_df.case_status_sum == 'Certified') & (h2visas_df.n_requested.isnull())].value_counts().loc[0])\n",
    "# I'll copy the values of these to n_requested because all visas were granted in certified\n",
    "new_values = h2visas_df.n_certified[(h2visas_df.case_status_sum == 'Certified') & (h2visas_df.n_requested.isnull())]\n",
    "h2visas_df.n_requested[(h2visas_df.case_status_sum == 'Certified') & (h2visas_df.n_requested.isnull())]\n",
    "h2visas_df.n_requested.loc[new_values.index] = new_values"
   ]
  },
  {
   "cell_type": "code",
   "execution_count": 203,
   "metadata": {
    "collapsed": false
   },
   "outputs": [
    {
     "data": {
      "text/plain": [
       "Partial        5638\n",
       "Denied         4126\n",
       "Withdrawn      1570\n",
       "Expired        1300\n",
       "In_progress       6\n",
       "Name: case_status_sum, dtype: int64"
      ]
     },
     "execution_count": 203,
     "metadata": {},
     "output_type": "execute_result"
    }
   ],
   "source": [
    "# The rest I can't do nothingng. Probably I'll change -1 to values afterwards.\n",
    "h2visas_df.case_status_sum[h2visas_df.n_requested.isnull()].value_counts()"
   ]
  },
  {
   "cell_type": "code",
   "execution_count": 219,
   "metadata": {
    "collapsed": false
   },
   "outputs": [
    {
     "data": {
      "text/html": [
       "<div>\n",
       "<table border=\"1\" class=\"dataframe\">\n",
       "  <thead>\n",
       "    <tr style=\"text-align: right;\">\n",
       "      <th></th>\n",
       "      <th>case_status_sum</th>\n",
       "      <th>n_certified</th>\n",
       "    </tr>\n",
       "  </thead>\n",
       "  <tbody>\n",
       "    <tr>\n",
       "      <th>3418</th>\n",
       "      <td>Certified</td>\n",
       "      <td>0</td>\n",
       "    </tr>\n",
       "    <tr>\n",
       "      <th>10302</th>\n",
       "      <td>Certified</td>\n",
       "      <td>0</td>\n",
       "    </tr>\n",
       "    <tr>\n",
       "      <th>55496</th>\n",
       "      <td>Denied</td>\n",
       "      <td>0</td>\n",
       "    </tr>\n",
       "    <tr>\n",
       "      <th>102142</th>\n",
       "      <td>Certified</td>\n",
       "      <td>0</td>\n",
       "    </tr>\n",
       "    <tr>\n",
       "      <th>126680</th>\n",
       "      <td>Certified</td>\n",
       "      <td>0</td>\n",
       "    </tr>\n",
       "    <tr>\n",
       "      <th>126846</th>\n",
       "      <td>Certified</td>\n",
       "      <td>0</td>\n",
       "    </tr>\n",
       "    <tr>\n",
       "      <th>126879</th>\n",
       "      <td>Certified</td>\n",
       "      <td>0</td>\n",
       "    </tr>\n",
       "    <tr>\n",
       "      <th>126880</th>\n",
       "      <td>Certified</td>\n",
       "      <td>0</td>\n",
       "    </tr>\n",
       "    <tr>\n",
       "      <th>127152</th>\n",
       "      <td>Certified</td>\n",
       "      <td>0</td>\n",
       "    </tr>\n",
       "    <tr>\n",
       "      <th>127153</th>\n",
       "      <td>Certified</td>\n",
       "      <td>0</td>\n",
       "    </tr>\n",
       "    <tr>\n",
       "      <th>127160</th>\n",
       "      <td>Certified</td>\n",
       "      <td>0</td>\n",
       "    </tr>\n",
       "    <tr>\n",
       "      <th>127335</th>\n",
       "      <td>Certified</td>\n",
       "      <td>0</td>\n",
       "    </tr>\n",
       "    <tr>\n",
       "      <th>127337</th>\n",
       "      <td>Certified</td>\n",
       "      <td>0</td>\n",
       "    </tr>\n",
       "    <tr>\n",
       "      <th>194656</th>\n",
       "      <td>Denied</td>\n",
       "      <td>0</td>\n",
       "    </tr>\n",
       "    <tr>\n",
       "      <th>195474</th>\n",
       "      <td>Denied</td>\n",
       "      <td>0</td>\n",
       "    </tr>\n",
       "    <tr>\n",
       "      <th>197574</th>\n",
       "      <td>Denied</td>\n",
       "      <td>0</td>\n",
       "    </tr>\n",
       "    <tr>\n",
       "      <th>200707</th>\n",
       "      <td>Denied</td>\n",
       "      <td>0</td>\n",
       "    </tr>\n",
       "  </tbody>\n",
       "</table>\n",
       "</div>"
      ],
      "text/plain": [
       "       case_status_sum  n_certified\n",
       "3418         Certified            0\n",
       "10302        Certified            0\n",
       "55496           Denied            0\n",
       "102142       Certified            0\n",
       "126680       Certified            0\n",
       "126846       Certified            0\n",
       "126879       Certified            0\n",
       "126880       Certified            0\n",
       "127152       Certified            0\n",
       "127153       Certified            0\n",
       "127160       Certified            0\n",
       "127335       Certified            0\n",
       "127337       Certified            0\n",
       "194656          Denied            0\n",
       "195474          Denied            0\n",
       "197574          Denied            0\n",
       "200707          Denied            0"
      ]
     },
     "execution_count": 219,
     "metadata": {},
     "output_type": "execute_result"
    }
   ],
   "source": [
    "# when is n_requested = 0?\n",
    "h2visas_df[['case_status_sum','n_certified']][h2visas_df['n_requested'] == 0]"
   ]
  },
  {
   "cell_type": "code",
   "execution_count": 220,
   "metadata": {
    "collapsed": false
   },
   "outputs": [
    {
     "name": "stderr",
     "output_type": "stream",
     "text": [
      "C:\\Anaconda3\\lib\\site-packages\\ipykernel\\__main__.py:2: SettingWithCopyWarning: \n",
      "A value is trying to be set on a copy of a slice from a DataFrame\n",
      "\n",
      "See the caveats in the documentation: http://pandas.pydata.org/pandas-docs/stable/indexing.html#indexing-view-versus-copy\n",
      "  from ipykernel import kernelapp as app\n"
     ]
    }
   ],
   "source": [
    "# Denied are ok as I can still get info. I'll set n_requeted to NaN\n",
    "h2visas_df.n_requested[(h2visas_df['n_requested'] == 0) & (h2visas_df['case_status_sum'] == 'Denied')] = np.nan\n",
    "# Certified doesn't make sense as I don't know how many Visas were cerfified. I'll delete this rows\n",
    "h2visas_df.drop(h2visas_df[(h2visas_df['n_requested'] == 0) & (h2visas_df['case_status_sum'] == 'Certifed')].index, inplace=True)"
   ]
  },
  {
   "cell_type": "code",
   "execution_count": 227,
   "metadata": {
    "collapsed": false
   },
   "outputs": [
    {
     "data": {
      "text/html": [
       "<div>\n",
       "<table border=\"1\" class=\"dataframe\">\n",
       "  <thead>\n",
       "    <tr style=\"text-align: right;\">\n",
       "      <th></th>\n",
       "      <th>case_no</th>\n",
       "      <th>visa_type</th>\n",
       "      <th>fy</th>\n",
       "      <th>last_event_date</th>\n",
       "      <th>case_status</th>\n",
       "      <th>n_requested</th>\n",
       "      <th>n_certified</th>\n",
       "      <th>is_certified</th>\n",
       "      <th>certification_begin_date</th>\n",
       "      <th>certification_end_date</th>\n",
       "      <th>...</th>\n",
       "      <th>employer_city</th>\n",
       "      <th>employer_address_1</th>\n",
       "      <th>employer_address_2</th>\n",
       "      <th>employer_postal_code</th>\n",
       "      <th>worksite_state</th>\n",
       "      <th>worksite_city</th>\n",
       "      <th>agent_name</th>\n",
       "      <th>organization_flag</th>\n",
       "      <th>is_duplicate</th>\n",
       "      <th>case_status_sum</th>\n",
       "    </tr>\n",
       "  </thead>\n",
       "  <tbody>\n",
       "  </tbody>\n",
       "</table>\n",
       "<p>0 rows × 23 columns</p>\n",
       "</div>"
      ],
      "text/plain": [
       "Empty DataFrame\n",
       "Columns: [case_no, visa_type, fy, last_event_date, case_status, n_requested, n_certified, is_certified, certification_begin_date, certification_end_date, job_title, employer_name, employer_state, employer_city, employer_address_1, employer_address_2, employer_postal_code, worksite_state, worksite_city, agent_name, organization_flag, is_duplicate, case_status_sum]\n",
       "Index: []\n",
       "\n",
       "[0 rows x 23 columns]"
      ]
     },
     "execution_count": 227,
     "metadata": {},
     "output_type": "execute_result"
    }
   ],
   "source": [
    "h2visas_df[(h2visas_df['n_requested'] == 0) & (h2visas_df['case_status_sum'] == 'Certifed')]"
   ]
  },
  {
   "cell_type": "code",
   "execution_count": 226,
   "metadata": {
    "collapsed": false
   },
   "outputs": [
    {
     "data": {
      "text/html": [
       "<div>\n",
       "<table border=\"1\" class=\"dataframe\">\n",
       "  <thead>\n",
       "    <tr style=\"text-align: right;\">\n",
       "      <th></th>\n",
       "      <th>case_status_sum</th>\n",
       "      <th>n_certified</th>\n",
       "      <th>n_requested</th>\n",
       "    </tr>\n",
       "  </thead>\n",
       "  <tbody>\n",
       "    <tr>\n",
       "      <th>3418</th>\n",
       "      <td>Certified</td>\n",
       "      <td>0</td>\n",
       "      <td>0.0</td>\n",
       "    </tr>\n",
       "    <tr>\n",
       "      <th>10302</th>\n",
       "      <td>Certified</td>\n",
       "      <td>0</td>\n",
       "      <td>0.0</td>\n",
       "    </tr>\n",
       "    <tr>\n",
       "      <th>102142</th>\n",
       "      <td>Certified</td>\n",
       "      <td>0</td>\n",
       "      <td>0.0</td>\n",
       "    </tr>\n",
       "    <tr>\n",
       "      <th>126680</th>\n",
       "      <td>Certified</td>\n",
       "      <td>0</td>\n",
       "      <td>0.0</td>\n",
       "    </tr>\n",
       "    <tr>\n",
       "      <th>126846</th>\n",
       "      <td>Certified</td>\n",
       "      <td>0</td>\n",
       "      <td>0.0</td>\n",
       "    </tr>\n",
       "    <tr>\n",
       "      <th>126879</th>\n",
       "      <td>Certified</td>\n",
       "      <td>0</td>\n",
       "      <td>0.0</td>\n",
       "    </tr>\n",
       "    <tr>\n",
       "      <th>126880</th>\n",
       "      <td>Certified</td>\n",
       "      <td>0</td>\n",
       "      <td>0.0</td>\n",
       "    </tr>\n",
       "    <tr>\n",
       "      <th>127152</th>\n",
       "      <td>Certified</td>\n",
       "      <td>0</td>\n",
       "      <td>0.0</td>\n",
       "    </tr>\n",
       "    <tr>\n",
       "      <th>127153</th>\n",
       "      <td>Certified</td>\n",
       "      <td>0</td>\n",
       "      <td>0.0</td>\n",
       "    </tr>\n",
       "    <tr>\n",
       "      <th>127160</th>\n",
       "      <td>Certified</td>\n",
       "      <td>0</td>\n",
       "      <td>0.0</td>\n",
       "    </tr>\n",
       "    <tr>\n",
       "      <th>127335</th>\n",
       "      <td>Certified</td>\n",
       "      <td>0</td>\n",
       "      <td>0.0</td>\n",
       "    </tr>\n",
       "    <tr>\n",
       "      <th>127337</th>\n",
       "      <td>Certified</td>\n",
       "      <td>0</td>\n",
       "      <td>0.0</td>\n",
       "    </tr>\n",
       "  </tbody>\n",
       "</table>\n",
       "</div>"
      ],
      "text/plain": [
       "       case_status_sum  n_certified  n_requested\n",
       "3418         Certified            0          0.0\n",
       "10302        Certified            0          0.0\n",
       "102142       Certified            0          0.0\n",
       "126680       Certified            0          0.0\n",
       "126846       Certified            0          0.0\n",
       "126879       Certified            0          0.0\n",
       "126880       Certified            0          0.0\n",
       "127152       Certified            0          0.0\n",
       "127153       Certified            0          0.0\n",
       "127160       Certified            0          0.0\n",
       "127335       Certified            0          0.0\n",
       "127337       Certified            0          0.0"
      ]
     },
     "execution_count": 226,
     "metadata": {},
     "output_type": "execute_result"
    }
   ],
   "source": [
    "# when is n_requested = 0?\n",
    "h2visas_df[['case_status_sum','n_certified','n_requested']][h2visas_df['n_requested'] == 0]"
   ]
  },
  {
   "cell_type": "code",
   "execution_count": null,
   "metadata": {
    "collapsed": false
   },
   "outputs": [],
   "source": [
    "# check output!!"
   ]
  },
  {
   "cell_type": "markdown",
   "metadata": {},
   "source": [
    "# Certification begin data and end data"
   ]
  },
  {
   "cell_type": "markdown",
   "metadata": {},
   "source": [
    "# Last event date (Most recent decision/progress in case)\n",
    "**All nulls are H-2A **"
   ]
  },
  {
   "cell_type": "code",
   "execution_count": 273,
   "metadata": {
    "collapsed": true
   },
   "outputs": [],
   "source": [
    "#convert to datetime\n",
    "h2visas_df[\"last_event_date\"] = pd.to_datetime(h2visas_df[\"last_event_date\"])\n",
    "h2visas_df[\"certification_begin_date\"] = pd.to_datetime(h2visas_df[\"certification_begin_date\"])\n",
    "h2visas_df[\"certification_end_date\"] = pd.to_datetime(h2visas_df[\"certification_end_date\"])"
   ]
  },
  {
   "cell_type": "code",
   "execution_count": 272,
   "metadata": {
    "collapsed": false
   },
   "outputs": [
    {
     "data": {
      "text/plain": [
       "H-2B    66762\n",
       "H-2A    57445\n",
       "Name: visa_type, dtype: int64"
      ]
     },
     "execution_count": 272,
     "metadata": {},
     "output_type": "execute_result"
    }
   ],
   "source": [
    "#explore nulls (7469), why is there no information?\n",
    "h2visas_df[\"visa_type\"][h2visas_df[\"last_event_date\"].isnull()].value_counts()"
   ]
  },
  {
   "cell_type": "code",
   "execution_count": 280,
   "metadata": {
    "collapsed": false
   },
   "outputs": [
    {
     "name": "stdout",
     "output_type": "stream",
     "text": [
      "0\n",
      "0\n"
     ]
    }
   ],
   "source": [
    "# when last_event_data is same as certification_end_date?\n",
    "print(len(h2visas_df[h2visas_df['last_event_date'] < h2visas_df['certification_end_date']]))\n",
    "print(len(h2visas_df[h2visas_df['last_event_date'] > h2visas_df['certification_end_date']]))"
   ]
  },
  {
   "cell_type": "code",
   "execution_count": 274,
   "metadata": {
    "collapsed": false
   },
   "outputs": [
    {
     "name": "stdout",
     "output_type": "stream",
     "text": [
      "nulls for end_date that have begin_date:\n"
     ]
    },
    {
     "data": {
      "text/plain": [
       "2010-08-01    1\n",
       "2014-03-22    1\n",
       "2013-08-12    1\n",
       "2011-12-15    1\n",
       "2015-06-01    1\n",
       "2009-11-12    1\n",
       "2014-06-20    1\n",
       "2013-09-25    1\n",
       "2011-03-01    1\n",
       "2012-04-01    1\n",
       "2007-06-01    1\n",
       "2016-02-07    1\n",
       "2013-11-20    1\n",
       "Name: certification_begin_date, dtype: int64"
      ]
     },
     "execution_count": 274,
     "metadata": {},
     "output_type": "execute_result"
    }
   ],
   "source": [
    "# Nulls certification_begin_date (57804) and certification_end_date (57813)\n",
    "print(\"nulls for end_date that have begin_date:\")\n",
    "h2visas_df[\"certification_begin_date\"][h2visas_df[\"certification_end_date\"].isnull()].value_counts()"
   ]
  },
  {
   "cell_type": "code",
   "execution_count": 275,
   "metadata": {
    "collapsed": false
   },
   "outputs": [
    {
     "name": "stdout",
     "output_type": "stream",
     "text": [
      "nulls for begin_date that have end_date:\n"
     ]
    },
    {
     "data": {
      "text/plain": [
       "2015-11-30    1\n",
       "2016-09-30    1\n",
       "2011-08-30    1\n",
       "2015-09-30    1\n",
       "2008-12-31    1\n",
       "2012-06-30    1\n",
       "Name: certification_end_date, dtype: int64"
      ]
     },
     "execution_count": 275,
     "metadata": {},
     "output_type": "execute_result"
    }
   ],
   "source": [
    "print(\"nulls for begin_date that have end_date:\")\n",
    "h2visas_df[\"certification_end_date\"][h2visas_df[\"certification_begin_date\"].isnull()].value_counts()"
   ]
  },
  {
   "cell_type": "code",
   "execution_count": 277,
   "metadata": {
    "collapsed": false
   },
   "outputs": [
    {
     "data": {
      "text/plain": [
       "Certified      98311\n",
       "Partial        11895\n",
       "Denied         10446\n",
       "Withdrawn       2166\n",
       "Expired         1333\n",
       "In_progress       56\n",
       "Name: case_status_sum, dtype: int64"
      ]
     },
     "execution_count": 277,
     "metadata": {},
     "output_type": "execute_result"
    }
   ],
   "source": [
    "# end_data vs last_event_data on nulls\n",
    "h2visas_df[\"case_status_sum\"][h2visas_df[\"certification_end_date\"] == h2visas_df[\"last_event_date\"]].value_counts()"
   ]
  },
  {
   "cell_type": "code",
   "execution_count": 279,
   "metadata": {
    "collapsed": false
   },
   "outputs": [
    {
     "data": {
      "text/plain": [
       "Certified      45637\n",
       "Denied          9107\n",
       "In_progress     1225\n",
       "Withdrawn        997\n",
       "Partial          261\n",
       "Name: case_status_sum, dtype: int64"
      ]
     },
     "execution_count": 279,
     "metadata": {},
     "output_type": "execute_result"
    }
   ],
   "source": [
    "# end_data vs last_event_data on nulls\n",
    "h2visas_df[\"case_status_sum\"][h2visas_df[\"certification_end_date\"] != h2visas_df[\"last_event_date\"]].value_counts()"
   ]
  },
  {
   "cell_type": "code",
   "execution_count": null,
   "metadata": {
    "collapsed": true
   },
   "outputs": [],
   "source": [
    "#TODO: last event dates have wierd values (like year 2020)"
   ]
  },
  {
   "cell_type": "markdown",
   "metadata": {},
   "source": [
    "# job_title"
   ]
  },
  {
   "cell_type": "code",
   "execution_count": 77,
   "metadata": {
    "collapsed": false
   },
   "outputs": [
    {
     "data": {
      "text/plain": [
       "8751"
      ]
     },
     "execution_count": 77,
     "metadata": {},
     "output_type": "execute_result"
    }
   ],
   "source": [
    "# how many?\n",
    "len(h2visas_df.job_title.value_counts())"
   ]
  },
  {
   "cell_type": "code",
   "execution_count": 79,
   "metadata": {
    "collapsed": false
   },
   "outputs": [
    {
     "data": {
      "text/plain": [
       "LABORER, LANDSCAPE                      24568\n",
       "CLEANER, HOUSEKEEPING                    6547\n",
       "LANDSCAPE LABORER                        4914\n",
       "STABLE ATTENDANT                         4177\n",
       "KITCHEN HELPER                           2916\n",
       "FARMWORKERS AND LABORERS, CROP           2794\n",
       "CONSTRUCTION WORKER I                    2650\n",
       "CONSTRUCTION WORKER II                   2466\n",
       "GROUNDSKEEPER, INDUSTRIAL COMMERCIAL     2453\n",
       "FARMWORKER                               2376\n",
       "Name: job_title, dtype: int64"
      ]
     },
     "execution_count": 79,
     "metadata": {},
     "output_type": "execute_result"
    }
   ],
   "source": [
    "#which ones are the 10 more common jobs?\n",
    "h2visas_df.job_title.value_counts()[:10]"
   ]
  },
  {
   "cell_type": "markdown",
   "metadata": {},
   "source": [
    "# organization_flag"
   ]
  },
  {
   "cell_type": "code",
   "execution_count": 288,
   "metadata": {
    "collapsed": false
   },
   "outputs": [
    {
     "data": {
      "text/plain": [
       "134344"
      ]
     },
     "execution_count": 288,
     "metadata": {},
     "output_type": "execute_result"
    }
   ],
   "source": [
    "# nulls. Lots of them !!!\n",
    "h2visas_df.organization_flag.isnull().sum()"
   ]
  },
  {
   "cell_type": "code",
   "execution_count": 284,
   "metadata": {
    "collapsed": false
   },
   "outputs": [
    {
     "data": {
      "text/plain": [
       "S                                            25064\n",
       "Individual Employer                          14138\n",
       "Association - Filing as Agent (H-2A Only)     3898\n",
       "H-2A Labor Contractor or Job Contractor       2071\n",
       "J                                              883\n",
       "Association - Joint Employer (H-2A Only)       462\n",
       "A                                              353\n",
       "M                                              202\n",
       "Association - Sole Employer (H-2A Only)         19\n",
       "Name: organization_flag, dtype: int64"
      ]
     },
     "execution_count": 284,
     "metadata": {},
     "output_type": "execute_result"
    }
   ],
   "source": [
    "h2visas_df.organization_flag.value_counts()"
   ]
  },
  {
   "cell_type": "code",
   "execution_count": 295,
   "metadata": {
    "collapsed": false
   },
   "outputs": [
    {
     "data": {
      "text/html": [
       "<div>\n",
       "<table border=\"1\" class=\"dataframe\">\n",
       "  <thead>\n",
       "    <tr style=\"text-align: right;\">\n",
       "      <th></th>\n",
       "      <th>fy</th>\n",
       "      <th>n_requested</th>\n",
       "      <th>n_certified</th>\n",
       "      <th>is_certified</th>\n",
       "    </tr>\n",
       "    <tr>\n",
       "      <th>organization_flag</th>\n",
       "      <th></th>\n",
       "      <th></th>\n",
       "      <th></th>\n",
       "      <th></th>\n",
       "    </tr>\n",
       "  </thead>\n",
       "  <tbody>\n",
       "    <tr>\n",
       "      <th>A</th>\n",
       "      <td>2010.0</td>\n",
       "      <td>63.0</td>\n",
       "      <td>58.0</td>\n",
       "      <td>True</td>\n",
       "    </tr>\n",
       "    <tr>\n",
       "      <th>Association - Filing as Agent (H-2A Only)</th>\n",
       "      <td>2014.0</td>\n",
       "      <td>4.0</td>\n",
       "      <td>4.0</td>\n",
       "      <td>True</td>\n",
       "    </tr>\n",
       "    <tr>\n",
       "      <th>Association - Joint Employer (H-2A Only)</th>\n",
       "      <td>2014.0</td>\n",
       "      <td>48.0</td>\n",
       "      <td>48.0</td>\n",
       "      <td>True</td>\n",
       "    </tr>\n",
       "    <tr>\n",
       "      <th>Association - Sole Employer (H-2A Only)</th>\n",
       "      <td>2015.0</td>\n",
       "      <td>6.0</td>\n",
       "      <td>6.0</td>\n",
       "      <td>True</td>\n",
       "    </tr>\n",
       "    <tr>\n",
       "      <th>H-2A Labor Contractor or Job Contractor</th>\n",
       "      <td>2014.0</td>\n",
       "      <td>16.0</td>\n",
       "      <td>15.0</td>\n",
       "      <td>True</td>\n",
       "    </tr>\n",
       "    <tr>\n",
       "      <th>Individual Employer</th>\n",
       "      <td>2014.0</td>\n",
       "      <td>4.0</td>\n",
       "      <td>4.0</td>\n",
       "      <td>True</td>\n",
       "    </tr>\n",
       "    <tr>\n",
       "      <th>J</th>\n",
       "      <td>2010.0</td>\n",
       "      <td>10.0</td>\n",
       "      <td>10.0</td>\n",
       "      <td>True</td>\n",
       "    </tr>\n",
       "    <tr>\n",
       "      <th>M</th>\n",
       "      <td>2009.0</td>\n",
       "      <td>17.5</td>\n",
       "      <td>16.5</td>\n",
       "      <td>True</td>\n",
       "    </tr>\n",
       "    <tr>\n",
       "      <th>S</th>\n",
       "      <td>2010.0</td>\n",
       "      <td>5.0</td>\n",
       "      <td>5.0</td>\n",
       "      <td>True</td>\n",
       "    </tr>\n",
       "  </tbody>\n",
       "</table>\n",
       "</div>"
      ],
      "text/plain": [
       "                                               fy  n_requested  n_certified  \\\n",
       "organization_flag                                                             \n",
       "A                                          2010.0         63.0         58.0   \n",
       "Association - Filing as Agent (H-2A Only)  2014.0          4.0          4.0   \n",
       "Association - Joint Employer (H-2A Only)   2014.0         48.0         48.0   \n",
       "Association - Sole Employer (H-2A Only)    2015.0          6.0          6.0   \n",
       "H-2A Labor Contractor or Job Contractor    2014.0         16.0         15.0   \n",
       "Individual Employer                        2014.0          4.0          4.0   \n",
       "J                                          2010.0         10.0         10.0   \n",
       "M                                          2009.0         17.5         16.5   \n",
       "S                                          2010.0          5.0          5.0   \n",
       "\n",
       "                                          is_certified  \n",
       "organization_flag                                       \n",
       "A                                                 True  \n",
       "Association - Filing as Agent (H-2A Only)         True  \n",
       "Association - Joint Employer (H-2A Only)          True  \n",
       "Association - Sole Employer (H-2A Only)           True  \n",
       "H-2A Labor Contractor or Job Contractor           True  \n",
       "Individual Employer                               True  \n",
       "J                                                 True  \n",
       "M                                                 True  \n",
       "S                                                 True  "
      ]
     },
     "execution_count": 295,
     "metadata": {},
     "output_type": "execute_result"
    }
   ],
   "source": [
    "ofg = h2visas_df.groupby('organization_flag')\n",
    "ofg.aggregate(np.median)"
   ]
  },
  {
   "cell_type": "code",
   "execution_count": 302,
   "metadata": {
    "collapsed": false,
    "scrolled": true
   },
   "outputs": [
    {
     "name": "stdout",
     "output_type": "stream",
     "text": [
      "----------- S -----------\n",
      "2008    5244\n",
      "2012    5208\n",
      "2009    4953\n",
      "2011    4768\n",
      "2010    4127\n",
      "2013     764\n",
      "Name: fy, dtype: int64\n",
      "------------------------------------\n",
      "\n",
      "----------- Individual Employer -----------\n",
      "2015    5093\n",
      "2014    4598\n",
      "2013    3636\n",
      "2016     811\n",
      "Name: fy, dtype: int64\n",
      "------------------------------------\n",
      "\n",
      "----------- Association - Filing as Agent (H-2A Only) -----------\n",
      "2015    1440\n",
      "2014    1312\n",
      "2013    1001\n",
      "2016     145\n",
      "Name: fy, dtype: int64\n",
      "------------------------------------\n",
      "\n",
      "----------- H-2A Labor Contractor or Job Contractor -----------\n",
      "2015    828\n",
      "2014    659\n",
      "2013    433\n",
      "2016    151\n",
      "Name: fy, dtype: int64\n",
      "------------------------------------\n",
      "\n",
      "----------- J -----------\n",
      "2008    273\n",
      "2010    182\n",
      "2012    159\n",
      "2009    141\n",
      "2011    118\n",
      "2013     10\n",
      "Name: fy, dtype: int64\n",
      "------------------------------------\n",
      "\n",
      "----------- Association - Joint Employer (H-2A Only) -----------\n",
      "2015    194\n",
      "2014    144\n",
      "2013    114\n",
      "2016     10\n",
      "Name: fy, dtype: int64\n",
      "------------------------------------\n",
      "\n",
      "----------- A -----------\n",
      "2012    88\n",
      "2009    73\n",
      "2008    66\n",
      "2010    65\n",
      "2011    55\n",
      "2013     6\n",
      "Name: fy, dtype: int64\n",
      "------------------------------------\n",
      "\n",
      "----------- M -----------\n",
      "2009    100\n",
      "2008     57\n",
      "2010     45\n",
      "Name: fy, dtype: int64\n",
      "------------------------------------\n",
      "\n",
      "----------- Association - Sole Employer (H-2A Only) -----------\n",
      "2015    7\n",
      "2014    6\n",
      "2013    3\n",
      "2016    3\n",
      "Name: fy, dtype: int64\n",
      "------------------------------------\n",
      "\n"
     ]
    }
   ],
   "source": [
    "# good descriptions are only used starting 2013\n",
    "for of in h2visas_df.organization_flag.value_counts().index:\n",
    "    print('----------- '+ of +' -----------')\n",
    "    print(h2visas_df['fy'][h2visas_df['organization_flag']==of].value_counts())\n",
    "    print('------------------------------------\\n')"
   ]
  },
  {
   "cell_type": "markdown",
   "metadata": {},
   "source": [
    "# FY"
   ]
  },
  {
   "cell_type": "code",
   "execution_count": 303,
   "metadata": {
    "collapsed": false
   },
   "outputs": [
    {
     "data": {
      "text/plain": [
       "0"
      ]
     },
     "execution_count": 303,
     "metadata": {},
     "output_type": "execute_result"
    }
   ],
   "source": [
    "# nulls. \n",
    "h2visas_df.fy.isnull().sum()"
   ]
  },
  {
   "cell_type": "code",
   "execution_count": 320,
   "metadata": {
    "collapsed": false
   },
   "outputs": [
    {
     "data": {
      "text/plain": [
       "2007    19082\n",
       "2008    16775\n",
       "2006    15531\n",
       "2015    14086\n",
       "2009    12346\n",
       "2014    12182\n",
       "2013    10678\n",
       "2012     9666\n",
       "2011     9350\n",
       "2004     9333\n",
       "2016     8995\n",
       "2010     8954\n",
       "2003     8306\n",
       "2002     7207\n",
       "2005     7188\n",
       "2001     6849\n",
       "2000     4906\n",
       "Name: fy, dtype: int64"
      ]
     },
     "execution_count": 320,
     "metadata": {},
     "output_type": "execute_result"
    }
   ],
   "source": [
    "h2visas_df.fy.value_counts()"
   ]
  },
  {
   "cell_type": "code",
   "execution_count": 351,
   "metadata": {
    "collapsed": false,
    "scrolled": true
   },
   "outputs": [
    {
     "name": "stdout",
     "output_type": "stream",
     "text": [
      "fiscal year: 2007\n",
      "[ 2006.  2007.    nan  2004.  2008.  2000.  2005.]\n",
      "----------------------\n",
      "fiscal year: 2008\n",
      "[ 2007.    nan  2008.  2009.  2000.]\n",
      "----------------------\n",
      "fiscal year: 2006\n",
      "[ 2006.  2005.    nan  2007.]\n",
      "----------------------\n",
      "fiscal year: 2015\n",
      "[ 2014.  2015.  2013.  2016.    nan]\n",
      "----------------------\n",
      "fiscal year: 2009\n",
      "[ 2008.    nan  2009.  2007.  2002.]\n",
      "----------------------\n",
      "fiscal year: 2014\n",
      "[ 2013.  2014.    nan  2015.]\n",
      "----------------------\n",
      "fiscal year: 2013\n",
      "[ 2012.    nan  2013.  2014.]\n",
      "----------------------\n",
      "fiscal year: 2012\n",
      "[ 2011.    nan  2012.  2001.  2013.]\n",
      "----------------------\n",
      "fiscal year: 2011\n",
      "[ 2010.    nan  2011.  2005.  2015.  2001.  2009.  2012.]\n",
      "----------------------\n",
      "fiscal year: 2004\n",
      "[ nan]\n",
      "----------------------\n",
      "fiscal year: 2016\n",
      "[ 2015.  2016.    nan  2017.  2025.]\n",
      "----------------------\n",
      "fiscal year: 2010\n",
      "[ 2009.    nan  2010.  2003.  2000.  2011.]\n",
      "----------------------\n",
      "fiscal year: 2003\n",
      "[ nan]\n",
      "----------------------\n",
      "fiscal year: 2002\n",
      "[ nan]\n",
      "----------------------\n",
      "fiscal year: 2005\n",
      "[ nan]\n",
      "----------------------\n",
      "fiscal year: 2001\n",
      "[ nan]\n",
      "----------------------\n",
      "fiscal year: 2000\n",
      "[ nan]\n",
      "----------------------\n"
     ]
    }
   ],
   "source": [
    "# certification_begin_date per fiscal year\n",
    "for year in h2visas_df.fy.value_counts().index:\n",
    "    print(\"fiscal year: \" + str(year))\n",
    "    print(h2visas_df['certification_begin_date'][h2visas_df['fy'] == year].dt.year.unique())\n",
    "    print(\"----------------------\")"
   ]
  },
  {
   "cell_type": "markdown",
   "metadata": {},
   "source": [
    "# Employer state"
   ]
  },
  {
   "cell_type": "code",
   "execution_count": 324,
   "metadata": {
    "collapsed": true
   },
   "outputs": [],
   "source": [
    "us_states = ['AL','AK','AZ','AR','CA','CO','CT','DC','DE','FL','GA','GU','HI','ID','IL','IN','IA','KS','KY','LA','ME','MD','MA','MI',\n",
    "             'MN','MS','MO','MP','MT','NE','NV','NH','NJ','NM','NY','NC','ND','OH','OK','OR','PA','PR','RI','SC','SD','TN','TX','UT',\n",
    "             'VI','VT','VA','WA','WV','WI','WY']\n",
    "can_states = ['AB','BC','MB','NB','NL','NT','NS','NU','ON','PE','QC','SK','YT']"
   ]
  },
  {
   "cell_type": "code",
   "execution_count": 304,
   "metadata": {
    "collapsed": false
   },
   "outputs": [
    {
     "data": {
      "text/plain": [
       "109"
      ]
     },
     "execution_count": 304,
     "metadata": {},
     "output_type": "execute_result"
    }
   ],
   "source": [
    "# nulls.\n",
    "h2visas_df.employer_state.isnull().sum()"
   ]
  },
  {
   "cell_type": "code",
   "execution_count": 307,
   "metadata": {
    "collapsed": false
   },
   "outputs": [
    {
     "data": {
      "text/plain": [
       "66"
      ]
     },
     "execution_count": 307,
     "metadata": {},
     "output_type": "execute_result"
    }
   ],
   "source": [
    "# number of states US+CAN. This number doesn't make sense\n",
    "len(h2visas_df.employer_state.value_counts())"
   ]
  },
  {
   "cell_type": "code",
   "execution_count": 325,
   "metadata": {
    "collapsed": false
   },
   "outputs": [
    {
     "data": {
      "text/plain": [
       "['SASKATCHEWAN', 'ALBERTA', 'MANITOBA', 'NF', 'IH', 'SA']"
      ]
     },
     "execution_count": 325,
     "metadata": {},
     "output_type": "execute_result"
    }
   ],
   "source": [
    "# what states are wrong?\n",
    "wrong_states = []\n",
    "for state in h2visas_df.employer_state.value_counts().index:\n",
    "    if (state not in us_states) and (state not in can_states) and (state not in wrong_states):\n",
    "        wrong_states.append(state)\n",
    "wrong_states"
   ]
  },
  {
   "cell_type": "code",
   "execution_count": 336,
   "metadata": {
    "collapsed": false
   },
   "outputs": [
    {
     "name": "stderr",
     "output_type": "stream",
     "text": [
      "C:\\Anaconda3\\lib\\site-packages\\ipykernel\\__main__.py:4: SettingWithCopyWarning: \n",
      "A value is trying to be set on a copy of a slice from a DataFrame\n",
      "\n",
      "See the caveats in the documentation: http://pandas.pydata.org/pandas-docs/stable/indexing.html#indexing-view-versus-copy\n"
     ]
    }
   ],
   "source": [
    "# FIX THE ones I know\n",
    "dic_state = {'SASKATCHEWAN':'SK','ALBERTA':'AB','MANITOBA':'MB','NF':'AB'}\n",
    "for key, value in dic_state.items():\n",
    "    h2visas_df['employer_state'][h2visas_df['employer_state'] == key] = value"
   ]
  },
  {
   "cell_type": "markdown",
   "metadata": {},
   "source": [
    "# Delete columns I don't need"
   ]
  },
  {
   "cell_type": "code",
   "execution_count": 283,
   "metadata": {
    "collapsed": false
   },
   "outputs": [
    {
     "data": {
      "text/plain": [
       "Index(['case_no', 'visa_type', 'fy', 'last_event_date', 'case_status',\n",
       "       'n_requested', 'n_certified', 'is_certified',\n",
       "       'certification_begin_date', 'certification_end_date', 'job_title',\n",
       "       'employer_name', 'employer_state', 'employer_city',\n",
       "       'employer_address_1', 'employer_address_2', 'employer_postal_code',\n",
       "       'worksite_state', 'worksite_city', 'agent_name', 'organization_flag',\n",
       "       'is_duplicate', 'case_status_sum'],\n",
       "      dtype='object')"
      ]
     },
     "execution_count": 283,
     "metadata": {},
     "output_type": "execute_result"
    }
   ],
   "source": [
    "h2visas_df.columns"
   ]
  },
  {
   "cell_type": "code",
   "execution_count": 358,
   "metadata": {
    "collapsed": false
   },
   "outputs": [],
   "source": [
    "# delele column with too many nulls or not useful for my analysis\n",
    "h2visas_df.drop(['is_duplicate','agent_name','worksite_city','employer_address_2','case_status','organization_flag'], axis=1, inplace=True)"
   ]
  },
  {
   "cell_type": "markdown",
   "metadata": {},
   "source": [
    "# Delete rows I don't need"
   ]
  },
  {
   "cell_type": "code",
   "execution_count": 354,
   "metadata": {
    "collapsed": true
   },
   "outputs": [],
   "source": [
    "# I'll work from data starting October 1, 2010 to March 31, 2016. Which means fiscal year of 2011 in advance.\n",
    "h2visas_df = h2visas_df[h2visas_df[\"fy\"] >= 2011]"
   ]
  },
  {
   "cell_type": "code",
   "execution_count": 359,
   "metadata": {
    "collapsed": false
   },
   "outputs": [
    {
     "data": {
      "image/png": "[encoded data removed]",
      "text/plain": [
       "<matplotlib.figure.Figure at 0x155e7080>"
      ]
     },
     "metadata": {},
     "output_type": "display_data"
    }
   ],
   "source": [
    "msno.matrix(h2visas_df)"
   ]
  },
  {
   "cell_type": "markdown",
   "metadata": {},
   "source": [
    "# 4. Analysis\n",
    "Stats for year 2016 are shown but not plotted because we only have data for 3 months and the plot can be misleading."
   ]
  },
  {
   "cell_type": "code",
   "execution_count": null,
   "metadata": {
    "collapsed": true
   },
   "outputs": [],
   "source": [
    "#4. Which positions are the most frequently requested for these visas?"
   ]
  },
  {
   "cell_type": "code",
   "execution_count": 646,
   "metadata": {
    "collapsed": false
   },
   "outputs": [
    {
     "data": {
      "text/html": [
       "<div>\n",
       "<table border=\"1\" class=\"dataframe\">\n",
       "  <thead>\n",
       "    <tr style=\"text-align: right;\">\n",
       "      <th>case_status_sum</th>\n",
       "      <th>Certified</th>\n",
       "      <th>Denied</th>\n",
       "      <th>Expired</th>\n",
       "      <th>Partial</th>\n",
       "      <th>Withdrawn</th>\n",
       "    </tr>\n",
       "    <tr>\n",
       "      <th>fy</th>\n",
       "      <th></th>\n",
       "      <th></th>\n",
       "      <th></th>\n",
       "      <th></th>\n",
       "      <th></th>\n",
       "    </tr>\n",
       "  </thead>\n",
       "  <tbody>\n",
       "    <tr>\n",
       "      <th>2011</th>\n",
       "      <td>6842</td>\n",
       "      <td>853</td>\n",
       "      <td>0</td>\n",
       "      <td>1549</td>\n",
       "      <td>106</td>\n",
       "    </tr>\n",
       "    <tr>\n",
       "      <th>2012</th>\n",
       "      <td>7497</td>\n",
       "      <td>742</td>\n",
       "      <td>0</td>\n",
       "      <td>1341</td>\n",
       "      <td>86</td>\n",
       "    </tr>\n",
       "    <tr>\n",
       "      <th>2013</th>\n",
       "      <td>8626</td>\n",
       "      <td>676</td>\n",
       "      <td>0</td>\n",
       "      <td>1069</td>\n",
       "      <td>307</td>\n",
       "    </tr>\n",
       "    <tr>\n",
       "      <th>2014</th>\n",
       "      <td>8984</td>\n",
       "      <td>657</td>\n",
       "      <td>1299</td>\n",
       "      <td>826</td>\n",
       "      <td>416</td>\n",
       "    </tr>\n",
       "    <tr>\n",
       "      <th>2015</th>\n",
       "      <td>11495</td>\n",
       "      <td>827</td>\n",
       "      <td>0</td>\n",
       "      <td>809</td>\n",
       "      <td>955</td>\n",
       "    </tr>\n",
       "    <tr>\n",
       "      <th>2016</th>\n",
       "      <td>7593</td>\n",
       "      <td>329</td>\n",
       "      <td>34</td>\n",
       "      <td>528</td>\n",
       "      <td>511</td>\n",
       "    </tr>\n",
       "  </tbody>\n",
       "</table>\n",
       "</div>"
      ],
      "text/plain": [
       "case_status_sum  Certified  Denied  Expired  Partial  Withdrawn\n",
       "fy                                                             \n",
       "2011                  6842     853        0     1549        106\n",
       "2012                  7497     742        0     1341         86\n",
       "2013                  8626     676        0     1069        307\n",
       "2014                  8984     657     1299      826        416\n",
       "2015                 11495     827        0      809        955\n",
       "2016                  7593     329       34      528        511"
      ]
     },
     "execution_count": 646,
     "metadata": {},
     "output_type": "execute_result"
    }
   ],
   "source": [
    "#1. How application status have change over time\n",
    "apgp = h2visas_df.groupby(['fy','case_status_sum'])['fy'].count()\n",
    "to_plot = apgp.unstack(level=1,fill_value=0)\n",
    "to_plot"
   ]
  },
  {
   "cell_type": "code",
   "execution_count": 645,
   "metadata": {
    "collapsed": false
   },
   "outputs": [
    {
     "data": {
      "image/png": "[encoded data removed]",
      "text/plain": [
       "<matplotlib.figure.Figure at 0x1dcfec18>"
      ]
     },
     "metadata": {},
     "output_type": "display_data"
    }
   ],
   "source": [
    "fig = plt.figure(figsize=(12,6))\n",
    "ax1 = plt.subplot2grid((1,1), (0, 0))\n",
    "ax1.set(xlabel='Year' , ylabel='Count', title='Case Status over time',xticks=(np.arange(2011, 2016, 1.0)))\n",
    "ax1.xaxis.set_major_formatter(FormatStrFormatter('%.0f'))\n",
    "ax1.plot(to_plot.loc[:2015])\n",
    "ax1.legend(apgp.index.levels[1],loc=0,prop={'size':15})\n",
    "plt.tight_layout()\n",
    "plt.show()"
   ]
  },
  {
   "cell_type": "code",
   "execution_count": 630,
   "metadata": {
    "collapsed": false
   },
   "outputs": [
    {
     "data": {
      "text/html": [
       "<div>\n",
       "<table border=\"1\" class=\"dataframe\">\n",
       "  <thead>\n",
       "    <tr style=\"text-align: right;\">\n",
       "      <th></th>\n",
       "      <th>n_requested</th>\n",
       "      <th>n_certified</th>\n",
       "    </tr>\n",
       "    <tr>\n",
       "      <th>fy</th>\n",
       "      <th></th>\n",
       "      <th></th>\n",
       "    </tr>\n",
       "  </thead>\n",
       "  <tbody>\n",
       "    <tr>\n",
       "      <th>2011</th>\n",
       "      <td>181113.0</td>\n",
       "      <td>160768</td>\n",
       "    </tr>\n",
       "    <tr>\n",
       "      <th>2012</th>\n",
       "      <td>184820.0</td>\n",
       "      <td>160633</td>\n",
       "    </tr>\n",
       "    <tr>\n",
       "      <th>2013</th>\n",
       "      <td>141117.0</td>\n",
       "      <td>181110</td>\n",
       "    </tr>\n",
       "    <tr>\n",
       "      <th>2014</th>\n",
       "      <td>136721.0</td>\n",
       "      <td>210264</td>\n",
       "    </tr>\n",
       "    <tr>\n",
       "      <th>2015</th>\n",
       "      <td>271804.0</td>\n",
       "      <td>241355</td>\n",
       "    </tr>\n",
       "    <tr>\n",
       "      <th>2016</th>\n",
       "      <td>153330.0</td>\n",
       "      <td>146639</td>\n",
       "    </tr>\n",
       "  </tbody>\n",
       "</table>\n",
       "</div>"
      ],
      "text/plain": [
       "      n_requested  n_certified\n",
       "fy                            \n",
       "2011     181113.0       160768\n",
       "2012     184820.0       160633\n",
       "2013     141117.0       181110\n",
       "2014     136721.0       210264\n",
       "2015     271804.0       241355\n",
       "2016     153330.0       146639"
      ]
     },
     "execution_count": 630,
     "metadata": {},
     "output_type": "execute_result"
    }
   ],
   "source": [
    "#2. How have the number of approved workers changed over time?\n",
    "fygb = h2visas_df.groupby('fy')\n",
    "to_plot = fygb['n_requested','n_certified'].aggregate(np.sum)\n",
    "to_plot"
   ]
  },
  {
   "cell_type": "code",
   "execution_count": 431,
   "metadata": {
    "collapsed": false
   },
   "outputs": [
    {
     "data": {
      "image/png": "[encoded data removed]",
      "text/plain": [
       "<matplotlib.figure.Figure at 0x1c8c02b0>"
      ]
     },
     "metadata": {},
     "output_type": "display_data"
    }
   ],
   "source": [
    "fig = plt.figure(figsize=(12,6))\n",
    "ax1 = plt.subplot2grid((1,1), (0, 0))\n",
    "ax1.set(xlabel='Year' , ylabel='Sum', title='Requested and certifed Visas over time',xticks=(np.arange(2011, 2016, 1.0)))\n",
    "ax1.xaxis.set_major_formatter(FormatStrFormatter('%.0f'))\n",
    "ax1.plot(to_plot.index[:-1],to_plot.values[:-1])\n",
    "ax1.legend(to_plot.columns,loc=0,prop={'size':15})\n",
    "plt.tight_layout()\n",
    "plt.show()"
   ]
  },
  {
   "cell_type": "code",
   "execution_count": null,
   "metadata": {
    "collapsed": false
   },
   "outputs": [],
   "source": [
    "#3. Which locations and types of businesses request the most visas and how has this changed over time?"
   ]
  },
  {
   "cell_type": "code",
   "execution_count": null,
   "metadata": {
    "collapsed": false
   },
   "outputs": [],
   "source": []
  },
  {
   "cell_type": "code",
   "execution_count": null,
   "metadata": {
    "collapsed": true
   },
   "outputs": [],
   "source": []
  }
 ],
 "metadata": {
  "kernelspec": {
   "display_name": "Python 3",
   "language": "python",
   "name": "python3"
  },
  "language_info": {
   "codemirror_mode": {
    "name": "ipython",
    "version": 3
   },
   "file_extension": ".py",
   "mimetype": "text/x-python",
   "name": "python",
   "nbconvert_exporter": "python",
   "pygments_lexer": "ipython3",
   "version": "3.5.1"
  }
 },
 "nbformat": 4,
 "nbformat_minor": 0
}
